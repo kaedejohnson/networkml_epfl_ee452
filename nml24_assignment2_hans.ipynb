{
  "cells": [
    {
      "cell_type": "markdown",
      "metadata": {
        "id": "8S5mo9I3pA2Q"
      },
      "source": [
        "# [NML-24] Assignment 2: Graph Neural Networks\n",
        "\n",
        "TAs: [William Cappelletti](https://people.epfl.ch/william.cappelletti) and [Abdellah Rahmani](https://people.epfl.ch/abdellah.rahmani)"
      ]
    },
    {
      "cell_type": "markdown",
      "metadata": {
        "id": "hl-xagi0AhNJ"
      },
      "source": [
        "## Students\n",
        "\n",
        "* Team: 5\n",
        "* Students: Hans Kristian Bjorgo Kvaerum (381875), Kaede Johnson (357472)"
      ]
    },
    {
      "cell_type": "markdown",
      "metadata": {
        "id": "tlRBpSceAhNJ"
      },
      "source": [
        "## Instructions\n",
        "\n",
        "**!! Read carefully before starting !!**\n",
        "\n",
        "**Deadline:** April 30\n",
        "\n",
        "**Grading:**\n",
        "* The integrality of Assignment 2 will be scaled to 100% and will amount to 1/3 of the overall assignments score.\n",
        "* The total number of points is **100**, the points for each exercise are stated in the instructions.\n",
        "* All team members will receive the same grade based on the team solution.\n",
        "* Collaboration between team members is encouraged. No collaboration between teams is allowed.\n",
        "\n",
        "**Expected output:**\n",
        "\n",
        "You will have coding and theoretical questions. Coding exercises shall be solved within the specified space:\n",
        "```python\n",
        "# Your solution here ###########################################################\n",
        "...\n",
        "#^^^^^^^^^^^^^^^^^^^^^^^^^^^^^^^^^^^^^^^^^^^^^^^^^^^^^^^^^^^^^^^^^^^^^^^^^^^^^^^\n",
        "```\n",
        "Sometimes we provide variable names, such as `x = ...`; do not change names and stick to hinted typing, as they will be reused later.\n",
        "Within the solution space, you can declare any other variable or function that you might need, but anything outside these lines shall not be changed, or it will invalidate your answers.\n",
        "\n",
        "Theoretical questions shall be answered in the following markdown cell. The first line will be\n",
        "```markdown\n",
        "**Your answer here:**\n",
        "...\n",
        "```\n",
        "\n",
        "**Solutions:**\n",
        "* Your submission is self-contained in the `.ipynb` file.\n",
        "\n",
        "* Code has to be clean and readable. Provide meaningful variable names and comment where needed.\n",
        "\n",
        "* Textual answers in [markdown cells][md_cells] shall be short: one to two\n",
        "  sentences. Math shall be written in [LaTeX][md_latex].\n",
        "    **NOTE**: handwritten notes pasted in the notebook are ignored.\n",
        "\n",
        "* You cannot import any other library than we imported, unless explicitly stated.\n",
        "\n",
        "* Make sure all cells are executed before submitting. I.e., if you open the notebook again it should show numerical results and plots. Cells not run are ignored.\n",
        "\n",
        "* Execute your notebook from a blank state before submission, to make sure it is reproducible. You can click \"Kernel\" then \"Restart Kernel and Run All Cells\" in Jupyter. We might re-run cells to ensure that the code is working and corresponds to the results.\n",
        "\n",
        "[md_cells]: https://jupyter-notebook.readthedocs.io/en/stable/examples/Notebook/Working%20With%20Markdown%20Cells.html\n",
        "[md_latex]: https://jupyter-notebook.readthedocs.io/en/stable/examples/Notebook/Working%20With%20Markdown%20Cells.html#LaTex-equations"
      ]
    },
    {
      "cell_type": "markdown",
      "metadata": {
        "id": "cmp4-YzspA2V"
      },
      "source": [
        "## Objective\n",
        "\n",
        "This assignment focuses on Graph Neural Networks. In the first part, you will load and prepare data using the PyTorch Geometric library. Next, you will define a GNN used to solve a task. You will train and test the Neural Network and comment on the results.\n",
        "In the second part, you will define a new GNN block, in order to include it in the previous architecture.\n",
        "The third part is theoretical and study a way to include structural properties in learned networks.\n",
        "\n",
        "## Prerequisites\n",
        "\n",
        "The additional [tutorial notebook](nml24_gnn_tutorial.ipynb) provides a broad overview of PyTorch and PyTorch Geometric, showing how to manipulate tensors and train neural networks and GNNs.\n",
        "\n",
        "The following resources might help you familiarize with PyTorch and PyTorch geometric.\n",
        "\n",
        "* [PyTorch: Learn the Basics](https://pytorch.org/tutorials/beginner/basics/intro.html)\n",
        "* [PyTorch geometric: Official tutorials](https://pytorch-geometric.readthedocs.io/en/latest/get_started/colabs.html#official-examples)\n"
      ]
    },
    {
      "cell_type": "code",
      "execution_count": null,
      "metadata": {
        "colab": {
          "base_uri": "https://localhost:8080/"
        },
        "id": "YCS_Aqq7m_8R",
        "outputId": "d85199d1-6b77-48bc-859b-187713633a8f"
      },
      "outputs": [
        {
          "name": "stdout",
          "output_type": "stream",
          "text": [
            "Mounted at /content/drive\n"
          ]
        }
      ],
      "source": [
        "from google.colab import drive\n",
        "drive.mount(\"/content/drive\")"
      ]
    },
    {
      "cell_type": "code",
      "execution_count": null,
      "metadata": {
        "colab": {
          "base_uri": "https://localhost:8080/"
        },
        "id": "bKso1HN4nKDz",
        "outputId": "89604df2-175a-4e7f-e4eb-cb491455af06"
      },
      "outputs": [
        {
          "name": "stdout",
          "output_type": "stream",
          "text": [
            "['graph_learning_module.png', 'nml24_gnn_tutorial.ipynb', 'raw', 'processed', 'nml24_assignment2.ipynb']\n",
            "['graph_learning_module.png', 'nml24_gnn_tutorial.ipynb', 'raw', 'processed', 'nml24_assignment2.ipynb']\n"
          ]
        }
      ],
      "source": [
        "import os\n",
        "# TODO: Fill in the `ROOT_PATH` with where you download the Assignment folder\n",
        "ROOT_PATH = \"/content/drive/MyDrive/network_ml/assignment2\"  # Replace with your directory to A2 folder\n",
        "print(os.listdir(ROOT_PATH)) # Check the content of the path\n",
        "os.chdir(ROOT_PATH) # cd into directory\n",
        "print(os.listdir(\".\")) # Check the content of current folder"
      ]
    },
    {
      "cell_type": "markdown",
      "metadata": {
        "id": "fv2QsxmdLWNN"
      },
      "source": [
        "## Part 0: Explore the data [0 points]\n",
        "\n",
        "This part contains no questions, but we will go together through the data to get a feeling of their content.\n",
        "We work with the [GitHub dataset](https://pytorch-geometric.readthedocs.io/en/latest/generated/torch_geometric.datasets.GitHub.html), from the [\"Multi-scale Attributed Node Embedding\"](https://arxiv.org/abs/1909.13021) paper.\n",
        "In this dataset, nodes represent developers on GitHub and edges are mutual follower relationships. It contains 37,300 nodes, 578,006 edges, 128 node features and 2 classes.\n",
        "\n",
        "This data is readily available in PyTorch Geometric, let's start by installing it."
      ]
    },
    {
      "cell_type": "code",
      "execution_count": null,
      "metadata": {
        "colab": {
          "base_uri": "https://localhost:8080/"
        },
        "id": "21wTC9M3Vx1Z",
        "outputId": "53828eb0-6f56-4f7a-ed89-b939d2c230a4"
      },
      "outputs": [
        {
          "name": "stdout",
          "output_type": "stream",
          "text": [
            "\u001b[2K     \u001b[90m━━━━━━━━━━━━━━━━━━━━━━━━━━━━━━━━━━━━━━━━\u001b[0m \u001b[32m1.1/1.1 MB\u001b[0m \u001b[31m11.1 MB/s\u001b[0m eta \u001b[36m0:00:00\u001b[0m\n",
            "\u001b[2K     \u001b[90m━━━━━━━━━━━━━━━━━━━━━━━━━━━━━━━━━━━━━━━━\u001b[0m \u001b[32m2.5/2.5 MB\u001b[0m \u001b[31m41.7 MB/s\u001b[0m eta \u001b[36m0:00:00\u001b[0m\n",
            "\u001b[2K     \u001b[90m━━━━━━━━━━━━━━━━━━━━━━━━━━━━━━━━━━━━━━━━\u001b[0m \u001b[32m841.5/841.5 kB\u001b[0m \u001b[31m17.2 MB/s\u001b[0m eta \u001b[36m0:00:00\u001b[0m\n",
            "\u001b[?25h"
          ]
        }
      ],
      "source": [
        "!pip install torch_geometric -q\n",
        "!pip install pyg_lib -f https://data.pyg.org/whl/torch-2.2.0+cu121.html -q\n",
        "!pip install torchmetrics -q"
      ]
    },
    {
      "cell_type": "markdown",
      "metadata": {
        "id": "ogDP1nNFGc8A"
      },
      "source": [
        "Then, we can import all relevant libraries. Some of them will be useful in later steps."
      ]
    },
    {
      "cell_type": "code",
      "execution_count": null,
      "metadata": {
        "id": "Q-ZfCASHUyyK"
      },
      "outputs": [],
      "source": [
        "import matplotlib.pyplot as plt\n",
        "import networkx as nx\n",
        "import numpy as np\n",
        "import torch\n",
        "import torch_geometric as pyg\n",
        "from scipy import sparse\n",
        "from sklearn.ensemble import RandomForestClassifier\n",
        "from sklearn.metrics import classification_report\n",
        "from torch import nn, optim\n",
        "from torch.utils.data import TensorDataset, DataLoader\n",
        "from torch_geometric.datasets import GitHub\n",
        "from torchmetrics import Metric\n",
        "from torchmetrics.classification import Accuracy, BinaryF1Score, Precision, Recall"
      ]
    },
    {
      "cell_type": "code",
      "execution_count": null,
      "metadata": {
        "id": "0iyzAIJkMRAR"
      },
      "outputs": [],
      "source": [
        "# Added by students: Metal-acceleration (MPS) for GPU acceleration on Apple ARM\n",
        "device = \"cuda:0\" if torch.cuda.is_available() else \"cpu\"\n",
        "# device = \"mps:0\" if torch.backends.mps.is_available() else \"cpu\""
      ]
    },
    {
      "cell_type": "markdown",
      "metadata": {
        "id": "ZpKUE05sG5y_"
      },
      "source": [
        "Let's download the data."
      ]
    },
    {
      "cell_type": "code",
      "execution_count": null,
      "metadata": {
        "id": "PASnfjHmG5WN"
      },
      "outputs": [],
      "source": [
        "dataset = GitHub(\".\")\n",
        "data = dataset._data"
      ]
    },
    {
      "cell_type": "markdown",
      "metadata": {
        "id": "l3YM75iqHExP"
      },
      "source": [
        "Now, we shall study its content. Node attributes are accessible through the `x` attribute, which is a `torch.Tensor`."
      ]
    },
    {
      "cell_type": "code",
      "execution_count": null,
      "metadata": {
        "colab": {
          "base_uri": "https://localhost:8080/"
        },
        "id": "EojTx0W9HEWB",
        "outputId": "64335534-33b9-4317-854f-2d6af3ce89dc"
      },
      "outputs": [
        {
          "name": "stdout",
          "output_type": "stream",
          "text": [
            "Design matrix\n",
            "Num. nodes: 37700; num features: 128\n"
          ]
        }
      ],
      "source": [
        "print(\"Design matrix\")\n",
        "n_nodes, n_feats = data.x.shape\n",
        "print(f\"Num. nodes: {n_nodes}; num features: {n_feats}\")"
      ]
    },
    {
      "cell_type": "markdown",
      "metadata": {
        "id": "hkxKqIAlHcfn"
      },
      "source": [
        "We see that we have 37,700 nodes, each with 128 features. The features correspond to an embedding of location, starred repositories, employer and e-mail address of each user.\n",
        "\n",
        "Each node comes with a 0/1 label, which indicates whether it corresponds to a web, or a machine learning developer."
      ]
    },
    {
      "cell_type": "code",
      "execution_count": null,
      "metadata": {
        "colab": {
          "base_uri": "https://localhost:8080/"
        },
        "id": "pADYpCsfILUX",
        "outputId": "a81f1b17-af4a-4bfa-8cee-3430b1718f49"
      },
      "outputs": [
        {
          "name": "stdout",
          "output_type": "stream",
          "text": [
            "Target vector\n",
            "First five elements: tensor([0, 0, 1, 0, 1])\n",
            "Number of samples: torch.Size([37700])\n",
            "Number of nodes in class 1: 9739\n"
          ]
        }
      ],
      "source": [
        "print(\"Target vector\")\n",
        "print(\"First five elements:\", data.y[:5])\n",
        "print(\"Number of samples:\", data.y.shape)\n",
        "print(\"Number of nodes in class 1:\", data.y.sum().item())"
      ]
    },
    {
      "cell_type": "markdown",
      "metadata": {
        "id": "sMWyuV57lN-v"
      },
      "source": [
        "We see that the task is quite imbalanced, as class one is underrepresented. To get more meaningful interpretations, we swap classes zero and one."
      ]
    },
    {
      "cell_type": "code",
      "execution_count": null,
      "metadata": {
        "id": "r96967dQJ909"
      },
      "outputs": [],
      "source": [
        "data.y = 1 - data.y"
      ]
    },
    {
      "cell_type": "markdown",
      "metadata": {
        "id": "i8tddwFBIKls"
      },
      "source": [
        "The edges are contained in the `edge_index` attribute, which is again a tensor. Let's check its shape."
      ]
    },
    {
      "cell_type": "code",
      "execution_count": null,
      "metadata": {
        "colab": {
          "base_uri": "https://localhost:8080/"
        },
        "id": "GvC2cdChIKV_",
        "outputId": "6ed315ff-e093-43ed-9cee-c1fc87d1c708"
      },
      "outputs": [
        {
          "name": "stdout",
          "output_type": "stream",
          "text": [
            "Edge index shape: torch.Size([2, 578006])\n"
          ]
        }
      ],
      "source": [
        "print(\"Edge index shape:\", data.edge_index.shape)"
      ]
    },
    {
      "cell_type": "markdown",
      "metadata": {
        "id": "hIeGm9pZOIeU"
      },
      "source": [
        "**0.1 [0 points]** Describe the content of the edge index matrix and how it relates to the adjacency matrix."
      ]
    },
    {
      "cell_type": "markdown",
      "metadata": {
        "id": "6O29ZREuOwS1"
      },
      "source": [
        "The `edge_index matrix` in PyTorch Geometric is used to represent the connectivity of the graph, and consists of two rows and columns representing edges between two nodes. More specifically, the first row contains the source nodes of the edges, while the second row contains the destination nodes of the edges. As a consequence, the entries of the matrix are node indices. Due to its compact nature, the `edge_index matrix` can be seen as a sparse representation of the `adjacency matrix`, where only the non-zero entries (i.e., existing edges) are stored. This leads to dimensionality of $2 \\times |E|$ for the `adjacency matrix`, compared to $N \\times N$ for the `adjacency matrix`(N is the number of nodes). Naturally, this makes `edge_index` particularly memory efficient for sparse graphs, where the number of edges is much smaller than $N^2$.\n",
        "\n",
        "---"
      ]
    },
    {
      "cell_type": "markdown",
      "metadata": {
        "id": "Z0VxhCEZlj3A"
      },
      "source": [
        "Now, we will create two random binary masks on the nodes: one for training and one for testing. We would like to have 70% of the samples in the training split, so we will uniformly pick nodes with that probability.\n",
        "\n",
        "We use a masking strategy instead of directly splitting the data because our interpretation of the task is that we have a social network in which the training label are accessible, while the test nodes, even though available, are unknown. This simplifies the sampling strategy, in particular for network methods, as we do not have to worry about loosing structure."
      ]
    },
    {
      "cell_type": "code",
      "execution_count": null,
      "metadata": {
        "colab": {
          "base_uri": "https://localhost:8080/"
        },
        "id": "Ci3Hoxz-ljdU",
        "outputId": "b31406ed-a40b-454c-aeed-1f6e8ca1ad31"
      },
      "outputs": [
        {
          "name": "stdout",
          "output_type": "stream",
          "text": [
            "Training set size: 29636 (78.61%)\n",
            "Test set size: 8064 (21.39%)\n",
            "Ratio of class 1 in training: 74.12%\n"
          ]
        }
      ],
      "source": [
        "rng = torch.Generator().manual_seed(452)\n",
        "train_mask = torch.randn(n_nodes, generator=rng) < 0.8\n",
        "\n",
        "n_nodes_tr = train_mask.sum().item()\n",
        "print(f\"Training set size: {n_nodes_tr} ({n_nodes_tr / n_nodes:.2%})\")\n",
        "print(f\"Test set size: {n_nodes - n_nodes_tr} ({1 - n_nodes_tr / n_nodes:.2%})\")\n",
        "print(\n",
        "    f\"Ratio of class 1 in training: {torch.sum(train_mask * data.y).item() / n_nodes_tr:.2%}\"\n",
        ")"
      ]
    },
    {
      "cell_type": "markdown",
      "metadata": {
        "id": "m0hIHBZWO_E2"
      },
      "source": [
        "We saw that the graph has 37,700 nodes, which means that the dense adjacency matrix has 1,421,290,000 entries.\n",
        "Supposing that binary variables are stored in a single bit, this would still require ~170 MB to store. With 8bit integers or floats it would occupy more than 10 GB, but with mainly zero values.\n",
        "\n",
        "Since each node can fit in 16 bits, this representation can fit in 2.2 MB."
      ]
    },
    {
      "cell_type": "markdown",
      "metadata": {
        "id": "-TTeSCNpAhNL"
      },
      "source": [
        "## Part 1: Deep learning on graph data [45 points]\n",
        "\n",
        "This part presents a general workflow for deep learning and our recommended libraries: PyTorch and PyTorch Geometric.\n",
        "We will start with classical ML baselines, to get some robust results to which we can compare. Then we will introduce Network features, to see whether they can help in our task. Finally, we start working with deep learning, and graph neural networks."
      ]
    },
    {
      "cell_type": "markdown",
      "metadata": {
        "id": "7kyFm7htUGtx"
      },
      "source": [
        "### Question 1.1: Our first baseline (4 points)\n",
        "\n",
        "In this question we define a baseline model with a \"classical\" ml method, namely a random forest, to get an idea of what performances we can expect from the following models.\n",
        "This model will only use node features, so it does not leverage at all the graph structure."
      ]
    },
    {
      "cell_type": "markdown",
      "metadata": {
        "id": "GutJnum0js4K"
      },
      "source": [
        "**1.1.1 [2pts]** Train a random forest classifier based on the node features. Make sure to use the provided `train_mask` for both the features and the target labels."
      ]
    },
    {
      "cell_type": "code",
      "execution_count": null,
      "metadata": {
        "id": "dtxCOzQgjsgV",
        "outputId": "ad65317f-6901-4eb9-91d3-7b0e306871a2"
      },
      "outputs": [
        {
          "data": {
            "text/html": [
              "<style>#sk-container-id-1 {color: black;}#sk-container-id-1 pre{padding: 0;}#sk-container-id-1 div.sk-toggleable {background-color: white;}#sk-container-id-1 label.sk-toggleable__label {cursor: pointer;display: block;width: 100%;margin-bottom: 0;padding: 0.3em;box-sizing: border-box;text-align: center;}#sk-container-id-1 label.sk-toggleable__label-arrow:before {content: \"▸\";float: left;margin-right: 0.25em;color: #696969;}#sk-container-id-1 label.sk-toggleable__label-arrow:hover:before {color: black;}#sk-container-id-1 div.sk-estimator:hover label.sk-toggleable__label-arrow:before {color: black;}#sk-container-id-1 div.sk-toggleable__content {max-height: 0;max-width: 0;overflow: hidden;text-align: left;background-color: #f0f8ff;}#sk-container-id-1 div.sk-toggleable__content pre {margin: 0.2em;color: black;border-radius: 0.25em;background-color: #f0f8ff;}#sk-container-id-1 input.sk-toggleable__control:checked~div.sk-toggleable__content {max-height: 200px;max-width: 100%;overflow: auto;}#sk-container-id-1 input.sk-toggleable__control:checked~label.sk-toggleable__label-arrow:before {content: \"▾\";}#sk-container-id-1 div.sk-estimator input.sk-toggleable__control:checked~label.sk-toggleable__label {background-color: #d4ebff;}#sk-container-id-1 div.sk-label input.sk-toggleable__control:checked~label.sk-toggleable__label {background-color: #d4ebff;}#sk-container-id-1 input.sk-hidden--visually {border: 0;clip: rect(1px 1px 1px 1px);clip: rect(1px, 1px, 1px, 1px);height: 1px;margin: -1px;overflow: hidden;padding: 0;position: absolute;width: 1px;}#sk-container-id-1 div.sk-estimator {font-family: monospace;background-color: #f0f8ff;border: 1px dotted black;border-radius: 0.25em;box-sizing: border-box;margin-bottom: 0.5em;}#sk-container-id-1 div.sk-estimator:hover {background-color: #d4ebff;}#sk-container-id-1 div.sk-parallel-item::after {content: \"\";width: 100%;border-bottom: 1px solid gray;flex-grow: 1;}#sk-container-id-1 div.sk-label:hover label.sk-toggleable__label {background-color: #d4ebff;}#sk-container-id-1 div.sk-serial::before {content: \"\";position: absolute;border-left: 1px solid gray;box-sizing: border-box;top: 0;bottom: 0;left: 50%;z-index: 0;}#sk-container-id-1 div.sk-serial {display: flex;flex-direction: column;align-items: center;background-color: white;padding-right: 0.2em;padding-left: 0.2em;position: relative;}#sk-container-id-1 div.sk-item {position: relative;z-index: 1;}#sk-container-id-1 div.sk-parallel {display: flex;align-items: stretch;justify-content: center;background-color: white;position: relative;}#sk-container-id-1 div.sk-item::before, #sk-container-id-1 div.sk-parallel-item::before {content: \"\";position: absolute;border-left: 1px solid gray;box-sizing: border-box;top: 0;bottom: 0;left: 50%;z-index: -1;}#sk-container-id-1 div.sk-parallel-item {display: flex;flex-direction: column;z-index: 1;position: relative;background-color: white;}#sk-container-id-1 div.sk-parallel-item:first-child::after {align-self: flex-end;width: 50%;}#sk-container-id-1 div.sk-parallel-item:last-child::after {align-self: flex-start;width: 50%;}#sk-container-id-1 div.sk-parallel-item:only-child::after {width: 0;}#sk-container-id-1 div.sk-dashed-wrapped {border: 1px dashed gray;margin: 0 0.4em 0.5em 0.4em;box-sizing: border-box;padding-bottom: 0.4em;background-color: white;}#sk-container-id-1 div.sk-label label {font-family: monospace;font-weight: bold;display: inline-block;line-height: 1.2em;}#sk-container-id-1 div.sk-label-container {text-align: center;}#sk-container-id-1 div.sk-container {/* jupyter's `normalize.less` sets `[hidden] { display: none; }` but bootstrap.min.css set `[hidden] { display: none !important; }` so we also need the `!important` here to be able to override the default hidden behavior on the sphinx rendered scikit-learn.org. See: https://github.com/scikit-learn/scikit-learn/issues/21755 */display: inline-block !important;position: relative;}#sk-container-id-1 div.sk-text-repr-fallback {display: none;}</style><div id=\"sk-container-id-1\" class=\"sk-top-container\"><div class=\"sk-text-repr-fallback\"><pre>RandomForestClassifier(random_state=42)</pre><b>In a Jupyter environment, please rerun this cell to show the HTML representation or trust the notebook. <br />On GitHub, the HTML representation is unable to render, please try loading this page with nbviewer.org.</b></div><div class=\"sk-container\" hidden><div class=\"sk-item\"><div class=\"sk-estimator sk-toggleable\"><input class=\"sk-toggleable__control sk-hidden--visually\" id=\"sk-estimator-id-1\" type=\"checkbox\" checked><label for=\"sk-estimator-id-1\" class=\"sk-toggleable__label sk-toggleable__label-arrow\">RandomForestClassifier</label><div class=\"sk-toggleable__content\"><pre>RandomForestClassifier(random_state=42)</pre></div></div></div></div></div>"
            ],
            "text/plain": [
              "RandomForestClassifier(random_state=42)"
            ]
          },
          "execution_count": 11,
          "metadata": {},
          "output_type": "execute_result"
        }
      ],
      "source": [
        "# Your solution here ###########################################################\n",
        "X_train = data.x[train_mask].numpy()\n",
        "y_train = data.y[train_mask].numpy()\n",
        "\n",
        "\n",
        "rf_classifier = RandomForestClassifier(n_estimators=100, random_state=42)\n",
        "rf_classifier.fit(X_train, y_train)\n",
        "# ^^^^^^^^^^^^^^^^^^^^^^^^^^^^^^^^^^^^^^^^^^^^^^^^^^^^^^^^^^^^^^^^^^^^^^^^^^^^^^"
      ]
    },
    {
      "cell_type": "markdown",
      "metadata": {
        "id": "fu-xUZHUkyhZ"
      },
      "source": [
        "**1.1.2 [1pts]** Predict the labels of the test nodes, then print the `classification_report`."
      ]
    },
    {
      "cell_type": "code",
      "execution_count": null,
      "metadata": {
        "colab": {
          "base_uri": "https://localhost:8080/"
        },
        "id": "09E56x7SkyR6",
        "outputId": "2affcdba-1ff9-4e25-8de8-2d8421825203"
      },
      "outputs": [
        {
          "name": "stdout",
          "output_type": "stream",
          "text": [
            "              precision    recall  f1-score   support\n",
            "\n",
            "           0       0.80      0.62      0.70      2070\n",
            "           1       0.88      0.95      0.91      5994\n",
            "\n",
            "    accuracy                           0.86      8064\n",
            "   macro avg       0.84      0.78      0.80      8064\n",
            "weighted avg       0.86      0.86      0.86      8064\n",
            "\n"
          ]
        }
      ],
      "source": [
        "# Your solution here ###########################################################\n",
        "\n",
        "test_mask = ~train_mask\n",
        "\n",
        "# Prepare the test data\n",
        "X_test = data.x[test_mask].numpy()\n",
        "y_test = data.y[test_mask].numpy()\n",
        "\n",
        "# Predict the labels for the test data\n",
        "y_pred = rf_classifier.predict(X_test)\n",
        "\n",
        "# Print the classification report\n",
        "print(classification_report(y_test, y_pred))\n",
        "\n",
        "# ^^^^^^^^^^^^^^^^^^^^^^^^^^^^^^^^^^^^^^^^^^^^^^^^^^^^^^^^^^^^^^^^^^^^^^^^^^^^^^"
      ]
    },
    {
      "cell_type": "markdown",
      "metadata": {
        "id": "ttmPz_DUlG4R"
      },
      "source": [
        "**1.1.3 [1pt]** Discuss which of the metrics is the most informative one for our setting."
      ]
    },
    {
      "cell_type": "markdown",
      "metadata": {
        "id": "mFUAHSG_lGcH"
      },
      "source": [
        "Given the class-imbalance observed in the dataset (class 0 contributing ~25% of the test examples), the f1-score is arguably the most informative and useful metric in this setting. F1 Score is a harmonic mean of precision (accuracy of positive predictions) and recall (ability of the model to find all the positive samples), thus giving a more balanced indication of the classifiers true performance. Accuracy is not that informative for our setting as the model in theory could make only class 1 predictions and get a 0.75 accuracy score on the test examples, thus fooling us to believe that the model is actually somewhat performant (when it is not)."
      ]
    },
    {
      "cell_type": "markdown",
      "metadata": {
        "id": "pxBcITtgLRXQ"
      },
      "source": [
        "### Question 1.2: Graph baseline - Laplacian eigenmaps (5 points)\n",
        "\n",
        "Now, let's implement a second benchmark, this time relying on structural properties. We would like to use eigenmaps of the Laplacian, but if you try to do it you would quickly run out of memory! (Go ahead and try if you will 😉)\n",
        "\n",
        "The adjacency matrix is too big to use it in computations, but it would be mainly filled with zeros. We can optimize memory and running time by using a **sparse representation**."
      ]
    },
    {
      "cell_type": "markdown",
      "metadata": {
        "id": "Ut_5nLpJW8Fy"
      },
      "source": [
        "**1.2.1 [1pts]** Compute the Laplacian matrix as a [sparse SciPy array][scipy_sparse]. Start by creating a sparse adjacency matrix form the `edge_index`, supposing that all edge weights are 1.\n",
        "\n",
        "[scipy_sparse]: https://docs.scipy.org/doc/scipy/reference/sparse.html"
      ]
    },
    {
      "cell_type": "code",
      "execution_count": null,
      "metadata": {
        "id": "jUkPozOLXsU2",
        "outputId": "a24981e6-d862-4bd9-cc71-2fb943abb86a"
      },
      "outputs": [
        {
          "name": "stdout",
          "output_type": "stream",
          "text": [
            "Sparse format of Laplacian: <class 'scipy.sparse._csr.csr_matrix'>\n"
          ]
        }
      ],
      "source": [
        "# Your solution here ###########################################################\n",
        "\n",
        "edge_index = data.edge_index.numpy()\n",
        "\n",
        "# Convert edge_index to a sparse adjacency matrix\n",
        "n = data.num_nodes\n",
        "rows, cols = edge_index\n",
        "values = np.ones(edge_index.shape[1])               # Assumption: all edge weights are 1\n",
        "adjacency = sparse.coo_matrix((values, (rows, cols)), shape=(n, n), dtype=np.float32)\n",
        "\n",
        "degree = sparse.diags(np.array(adjacency.sum(axis=1)).flatten())\n",
        "laplacian = degree - adjacency\n",
        "\n",
        "print(f\"Sparse format of Laplacian: {type(laplacian)}\")\n",
        "# ^^^^^^^^^^^^^^^^^^^^^^^^^^^^^^^^^^^^^^^^^^^^^^^^^^^^^^^^^^^^^^^^^^^^^^^^^^^^^^"
      ]
    },
    {
      "cell_type": "markdown",
      "metadata": {
        "id": "FpcX9YzpdHhg"
      },
      "source": [
        "**1.2.2 [1pts]** Use SciPy sparse linear algebra capabilities to compute the first 5 nontrivial eigenvectors of the Laplacian.\n",
        "\n",
        "*Note: This takes ~15 minutes, so you can change the condition to False after completing Question 1.2 to iterate more quickly over the following ones."
      ]
    },
    {
      "cell_type": "code",
      "execution_count": null,
      "metadata": {
        "id": "lPl0GpFNXtqb"
      },
      "outputs": [],
      "source": [
        "# Your solution here ###########################################################\n",
        "find_eigvecs = True\n",
        "\n",
        "if find_eigvecs:  # Change to True to run cell\n",
        "    # Compute the first 6 smallest eigenvalues and corresponding eigenvectors\n",
        "    eigvals, eigvecs = sparse.linalg.eigsh(laplacian, k=6, which='SM')\n",
        "    # Exclude the first trivial eigenvector (corresponding to the eigenvalue 0)\n",
        "    eigvecs = eigvecs[:, 1:6]\n",
        "\n",
        "# ^^^^^^^^^^^^^^^^^^^^^^^^^^^^^^^^^^^^^^^^^^^^^^^^^^^^^^^^^^^^^^^^^^^^^^^^^^^^^^\n",
        "else:\n",
        "    eigvecs = np.random.rand(n_nodes, 5)\n"
      ]
    },
    {
      "cell_type": "markdown",
      "metadata": {
        "id": "YSA1eROhf6C0"
      },
      "source": [
        "**1.2.3 [1pts]** Train and test a new random forest classifier using the eigenvector representation as features."
      ]
    },
    {
      "cell_type": "code",
      "execution_count": null,
      "metadata": {
        "colab": {
          "base_uri": "https://localhost:8080/"
        },
        "id": "R9auF0OKHsQ6",
        "outputId": "c0fa19e4-cc95-44e2-c0b9-51b1da87269b"
      },
      "outputs": [
        {
          "name": "stdout",
          "output_type": "stream",
          "text": [
            "              precision    recall  f1-score   support\n",
            "\n",
            "           0       0.78      0.19      0.31      2070\n",
            "           1       0.78      0.98      0.87      5994\n",
            "\n",
            "    accuracy                           0.78      8064\n",
            "   macro avg       0.78      0.59      0.59      8064\n",
            "weighted avg       0.78      0.78      0.72      8064\n",
            "\n"
          ]
        }
      ],
      "source": [
        "# Your solution here ###########################################################\n",
        "\n",
        "from sklearn.ensemble import RandomForestClassifier\n",
        "from sklearn.metrics import classification_report\n",
        "\n",
        "# Prepare the training and testing data\n",
        "X_train = eigvecs[train_mask]\n",
        "y_train = data.y[train_mask].numpy()\n",
        "\n",
        "X_test = eigvecs[test_mask]\n",
        "y_test = data.y[test_mask].numpy()\n",
        "\n",
        "# Create the random forest classifier\n",
        "rf_classifier = RandomForestClassifier(n_estimators=100, random_state=42)\n",
        "\n",
        "# Train the classifier\n",
        "rf_classifier.fit(X_train, y_train)\n",
        "\n",
        "# Predict the labels of the test set\n",
        "y_pred = rf_classifier.predict(X_test)\n",
        "\n",
        "# Print the classification report\n",
        "print(classification_report(y_test, y_pred))\n",
        "\n",
        "\n",
        "# ^^^^^^^^^^^^^^^^^^^^^^^^^^^^^^^^^^^^^^^^^^^^^^^^^^^^^^^^^^^^^^^^^^^^^^^^^^^^^^"
      ]
    },
    {
      "cell_type": "markdown",
      "metadata": {
        "id": "WLmBT9l0IUh-"
      },
      "source": [
        "**1.2.4 [1pts]** Now, combine the two sets of features, i.e. the given programmers features and the Laplacian eigenmaps, into a single design matrix, then train and test another RF."
      ]
    },
    {
      "cell_type": "code",
      "execution_count": null,
      "metadata": {
        "colab": {
          "base_uri": "https://localhost:8080/"
        },
        "id": "5hS6Wk8rf769",
        "outputId": "8575254f-1487-421e-da12-5470386573cb"
      },
      "outputs": [
        {
          "name": "stdout",
          "output_type": "stream",
          "text": [
            "              precision    recall  f1-score   support\n",
            "\n",
            "           0       0.81      0.63      0.71      2070\n",
            "           1       0.88      0.95      0.91      5994\n",
            "\n",
            "    accuracy                           0.87      8064\n",
            "   macro avg       0.85      0.79      0.81      8064\n",
            "weighted avg       0.86      0.87      0.86      8064\n",
            "\n"
          ]
        }
      ],
      "source": [
        "# Your solution here ###########################################################\n",
        "\n",
        "combined_features = np.hstack((data.x.numpy(), eigvecs))\n",
        "\n",
        "# Prepare the training and testing data using combined features\n",
        "X_train = combined_features[train_mask]\n",
        "X_test = combined_features[test_mask]\n",
        "\n",
        "# Create and train the random forest classifier\n",
        "rf_combined = RandomForestClassifier(n_estimators=100, random_state=42)\n",
        "rf_combined.fit(X_train, y_train)\n",
        "\n",
        "# Predict the labels of the test set using the combined feature classifier\n",
        "y_pred = rf_combined.predict(X_test)\n",
        "\n",
        "# Print the classification report for the combined features model\n",
        "print(classification_report(y_test, y_pred))\n",
        "\n",
        "# ^^^^^^^^^^^^^^^^^^^^^^^^^^^^^^^^^^^^^^^^^^^^^^^^^^^^^^^^^^^^^^^^^^^^^^^^^^^^^^"
      ]
    },
    {
      "cell_type": "markdown",
      "metadata": {
        "id": "bxSH_KELJHTh"
      },
      "source": [
        "**1.2.5 [1pts]** Comment on the results and describe which model you expect to perform the best on unseen dataset.\n",
        "\n"
      ]
    },
    {
      "cell_type": "markdown",
      "metadata": {
        "id": "StE6dXwWXtxP"
      },
      "source": [
        "**Your answer here:**\n",
        "..."
      ]
    },
    {
      "cell_type": "markdown",
      "metadata": {
        "id": "LRXIUrGNWpKe"
      },
      "source": [
        "### Question 1.3: Neural Network baseline - MLP (16 points)\n",
        "\n",
        "In this question, we move from classical ML to deep learning and, again, we start from a simple model to get a viable benchmark."
      ]
    },
    {
      "cell_type": "markdown",
      "metadata": {
        "id": "lPBDUDIM-O2E"
      },
      "source": [
        "**1.3.1 [2pts]** Create two `DataLoaders`, for the training and test data respectively, by using the `TensorDataset` class. Use the predefined batch size and shuffle training data.\n",
        "\n",
        "References:\n",
        "- [Datasets and DataLoaders](https://pytorch.org/tutorials/beginner/basics/data_tutorial.html)\n",
        "- [PyTorch data utility](https://pytorch.org/docs/stable/data.html)"
      ]
    },
    {
      "cell_type": "code",
      "execution_count": null,
      "metadata": {
        "id": "zH3G5rTBtp6D"
      },
      "outputs": [],
      "source": [
        "batch_size = 128\n",
        "\n",
        "# Your solution here ###########################################################\n",
        "\n",
        "# Assuming we should use the initial features\n",
        "X_train = data.x[train_mask].clone().detach().to(device)\n",
        "y_train = data.y[train_mask].clone().detach().to(device)\n",
        "X_test = data.x[~train_mask].clone().detach().to(device)\n",
        "y_test = data.y[~train_mask].clone().detach().to(device)\n",
        "\n",
        "# Create dataloaders\n",
        "loader_train = DataLoader(TensorDataset(X_train, y_train), batch_size=batch_size, shuffle=True)\n",
        "loader_test = DataLoader(TensorDataset(X_test, y_test), batch_size=batch_size, shuffle=True)\n",
        "\n",
        "\n",
        "# ^^^^^^^^^^^^^^^^^^^^^^^^^^^^^^^^^^^^^^^^^^^^^^^^^^^^^^^^^^^^^^^^^^^^^^^^^^^^^^"
      ]
    },
    {
      "cell_type": "markdown",
      "metadata": {
        "id": "5aIHAOnGL9Sm"
      },
      "source": [
        "**1.3.2 [2pts]** Define a [torch module][nn_module] for a two-layer perceptron with the ReLU activation function. The hidden dimension will be a parameter of the constructor function.\n",
        "This neural network will take as input a design matrix and predict the \"logits\" of class 1.\n",
        "\n",
        "[nn_module]: https://pytorch.org/docs/stable/generated/torch.nn.Module.html"
      ]
    },
    {
      "cell_type": "code",
      "execution_count": null,
      "metadata": {
        "id": "HiyHwfHLgsIT"
      },
      "outputs": [],
      "source": [
        "class MLP(nn.Module):\n",
        "    # Your solution here #######################################################\n",
        "    def __init__(self, in_features: int, hidden_features: int):\n",
        "        super(MLP, self).__init__()\n",
        "\n",
        "        # Input layer: input_dim -> hidden_dim\n",
        "        self.layer1 = nn.Linear(in_features, hidden_features)\n",
        "\n",
        "        # ReLU activation function\n",
        "        self.relu = nn.ReLU()\n",
        "\n",
        "        # Output Layer: hidden_dim -> prediction\n",
        "        self.layer2 = nn.Linear(hidden_features, 1)\n",
        "\n",
        "    def forward(self, x):\n",
        "        \"\"\"\n",
        "        Forward pass for the network.\n",
        "        x: Input tensor of shape (batch_size, in_features)\n",
        "        \"\"\"\n",
        "\n",
        "        # Pass the input through the first layer, then apply ReLU\n",
        "        x = self.relu(self.layer1(x))\n",
        "\n",
        "        # Pass the result through the second layer to produce logits\n",
        "        x = self.layer2(x)\n",
        "\n",
        "        return x\n",
        "    # ^^^^^^^^^^^^^^^^^^^^^^^^^^^^^^^^^^^^^^^^^^^^^^^^^^^^^^^^^^^^^^^^^^^^^^^^^^"
      ]
    },
    {
      "cell_type": "markdown",
      "metadata": {
        "id": "fDJDlVGLtoTp"
      },
      "source": [
        "**1.3.3 [1pts]** Define a function to perform one training step for a given NN, taking as argument a batch of data `x` with target `y`, an [optimizer](torch_optim), and a [loss function](torch_loss). The function should return the loss value, as a float."
      ]
    },
    {
      "cell_type": "code",
      "execution_count": null,
      "metadata": {
        "id": "aQu7n7_itgW9"
      },
      "outputs": [],
      "source": [
        "def train_nn_step(\n",
        "    optimizer: optim.Optimizer,\n",
        "    loss_fn: nn.Module,\n",
        "    model: nn.Module,\n",
        "    x: torch.Tensor,\n",
        "    y: torch.Tensor,\n",
        ") -> float:\n",
        "    model.train()  # Used to ensure that relevant blocks are in training mode\n",
        "\n",
        "    # Your solution here #######################################################\n",
        "\n",
        "    # Clear previous gradients\n",
        "    optimizer.zero_grad()\n",
        "\n",
        "    outputs = model(x).squeeze() # Changes shape from [128, 1] to [128]\n",
        "\n",
        "    loss = loss_fn(outputs, y.float())\n",
        "\n",
        "    loss.backward()\n",
        "\n",
        "    optimizer.step()\n",
        "\n",
        "    return loss.item()\n",
        "\n",
        "    # ^^^^^^^^^^^^^^^^^^^^^^^^^^^^^^^^^^^^^^^^^^^^^^^^^^^^^^^^^^^^^^^^^^^^^^^^^^"
      ]
    },
    {
      "cell_type": "markdown",
      "metadata": {
        "id": "rVzRfczBgXGj"
      },
      "source": [
        "**1.3.4 [2pts]** Write an evaluation function that takes as input a PyTorch Module, a data loader, and a [TorchMetrics function][torchmetrics] and returns the cumulative metric over all batches.\n",
        "\n",
        "[TorchMetrics][torchmetrics] is a convenient package that implements metrics that work with PyTorch Tensors, and also with batched data.\n",
        "\n",
        "[torchmetrics]: https://lightning.ai/docs/torchmetrics/stable/pages/quickstart.html"
      ]
    },
    {
      "cell_type": "code",
      "execution_count": null,
      "metadata": {
        "id": "_P-metq4DA8E"
      },
      "outputs": [],
      "source": [
        "def eval_nn(model: nn.Module, loader: DataLoader, metric_fn: Metric) -> float:\n",
        "    model.eval()  # Used to ensure that relevant block are in evaluation model\n",
        "\n",
        "    # Your solution here #######################################################\n",
        "    with torch.no_grad():\n",
        "        for x_batch, y_batch in loader:\n",
        "            outputs = model(x_batch).squeeze()\n",
        "            preds = torch.sigmoid(outputs)  # Convert logits to probabilities\n",
        "            metric_fn.update(preds, y_batch.float())\n",
        "\n",
        "\n",
        "    final_metric = metric_fn.compute()\n",
        "    metric_fn.reset()\n",
        "\n",
        "    return final_metric\n",
        "\n",
        "    # ^^^^^^^^^^^^^^^^^^^^^^^^^^^^^^^^^^^^^^^^^^^^^^^^^^^^^^^^^^^^^^^^^^^^^^^^^^"
      ]
    },
    {
      "cell_type": "markdown",
      "metadata": {
        "id": "ctd5U6RH0yHY"
      },
      "source": [
        "**1.3.5 [2pts]** Create an instance of the previously defined MLP, a relevant [loss function][torch_loss] for our classification task, and an [optimizer](torch_optim).\n",
        "When needed, as for the MLP hidden dimension and optimizer learning rate, select parameters that provide good results for the task. You might need some trial-and-error, so keep track of you results as you will be asked to comment on those hyperparameters.\n",
        "\n",
        "Make sure to send everything to the correct device at initialization, as moving information from the CPU to the GPU is time-consuming.\n",
        "To use GPUs, you might have to change runtime type.\n",
        "\n",
        "[torch_loss]: https://pytorch.org/docs/stable/nn.html#loss-functions\n",
        "[torch_optim]: https://pytorch.org/docs/stable/optim.html\n"
      ]
    },
    {
      "cell_type": "code",
      "execution_count": null,
      "metadata": {
        "colab": {
          "base_uri": "https://localhost:8080/"
        },
        "id": "-H7iUiLHtp2K",
        "outputId": "0876d4ff-40bc-4742-cec2-4f183d2b360b"
      },
      "outputs": [
        {
          "name": "stdout",
          "output_type": "stream",
          "text": [
            "Using mps:0 device\n"
          ]
        }
      ],
      "source": [
        "print(f\"Using {device} device\")\n",
        "\n",
        "# Your solution here ###########################################################\n",
        "\n",
        "# Define the input feature size and hidden layer size\n",
        "in_features = X_train.shape[1]  # Replace with actual size\n",
        "hidden_features = 64  # Example size, can be tuned\n",
        "\n",
        "mlp = MLP(in_features=in_features, hidden_features=64).to(device)\n",
        "\n",
        "# Loss function: Binary Cross-Entropy with logits loss (Combined BCE-loss and sigmoid in one single class\n",
        "loss_fn = nn.BCEWithLogitsLoss()\n",
        "\n",
        "learning_rate = 0.001  # Starting learning rate, can be tuned\n",
        "optimizer = torch.optim.Adam(mlp.parameters(), lr=learning_rate)\n",
        "\n",
        "# ^^^^^^^^^^^^^^^^^^^^^^^^^^^^^^^^^^^^^^^^^^^^^^^^^^^^^^^^^^^^^^^^^^^^^^^^^^^^^^"
      ]
    },
    {
      "cell_type": "markdown",
      "metadata": {
        "id": "EG1gxH1xDBw0"
      },
      "source": [
        "**1.3.6 [3pts]** Perform 10 epochs of training. During each epoch, you should perform training steps iterating over the whole dataset. Gather the losses of each batch, and plot the evolution of the training loss at the end."
      ]
    },
    {
      "cell_type": "code",
      "execution_count": null,
      "metadata": {
        "colab": {
          "base_uri": "https://localhost:8080/",
          "height": 430
        },
        "id": "pCmbnke5tqAq",
        "outputId": "badf3a15-22a2-4795-d081-66e810c41c7a"
      },
      "outputs": [
        {
          "name": "stdout",
          "output_type": "stream",
          "text": [
            "Epoch 1/15, Avg Loss: 0.4033\n",
            "Epoch 2/15, Avg Loss: 0.3454\n",
            "Epoch 3/15, Avg Loss: 0.3381\n",
            "Epoch 4/15, Avg Loss: 0.3323\n",
            "Epoch 5/15, Avg Loss: 0.3277\n",
            "Epoch 6/15, Avg Loss: 0.3224\n",
            "Epoch 7/15, Avg Loss: 0.3163\n",
            "Epoch 8/15, Avg Loss: 0.3115\n",
            "Epoch 9/15, Avg Loss: 0.3056\n",
            "Epoch 10/15, Avg Loss: 0.3000\n",
            "Epoch 11/15, Avg Loss: 0.2939\n",
            "Epoch 12/15, Avg Loss: 0.2894\n",
            "Epoch 13/15, Avg Loss: 0.2834\n",
            "Epoch 14/15, Avg Loss: 0.2786\n",
            "Epoch 15/15, Avg Loss: 0.2733\n"
          ]
        },
        {
          "data": {
            "image/png": "[encoded data removed]",
            "text/plain": [
              "<Figure size 1000x500 with 1 Axes>"
            ]
          },
          "metadata": {},
          "output_type": "display_data"
        }
      ],
      "source": [
        "from tqdm import tqdm\n",
        "\n",
        "n_epochs = 15\n",
        "\n",
        "# Your solution here ###########################################################\n",
        "def train_mlp(mlp, loader_train, optimizer, loss_fn, n_epochs, verbose=False):\n",
        "    all_losses = []\n",
        "\n",
        "    for epoch in range(n_epochs):\n",
        "        epoch_losses = []\n",
        "\n",
        "        # Wrap the DataLoader with tqdm for visual progress\n",
        "        if verbose:\n",
        "            iterable = tqdm(loader_train, desc=f\"Epoch {epoch+1}/{n_epochs}\")\n",
        "        else:\n",
        "            iterable = loader_train\n",
        "\n",
        "        for x_batch, y_batch in iterable:\n",
        "            # Move data to the correct device\n",
        "            x_batch = x_batch.to(device)\n",
        "            y_batch = y_batch.to(device)\n",
        "\n",
        "            # Perform a training step\n",
        "            loss = train_nn_step(optimizer, loss_fn, mlp, x_batch, y_batch)\n",
        "            epoch_losses.append(loss)\n",
        "\n",
        "            if verbose:\n",
        "                # Update progress bar with the current batch loss\n",
        "                iterable.set_postfix({'loss': loss})\n",
        "\n",
        "        # Record average loss for this epoch\n",
        "        avg_loss = sum(epoch_losses) / len(epoch_losses)\n",
        "        all_losses.append(avg_loss)\n",
        "        print(f\"Epoch {epoch+1}/{n_epochs}, Avg Loss: {avg_loss:.4f}\")\n",
        "\n",
        "    return all_losses\n",
        "\n",
        "all_losses = train_mlp(mlp, loader_train, optimizer, loss_fn, n_epochs)\n",
        "# Plotting the losses\n",
        "plt.figure(figsize=(10, 5))\n",
        "plt.plot(all_losses, label='Training Loss')\n",
        "plt.title('Training Loss Over Epochs')\n",
        "plt.xlabel('Epoch')\n",
        "plt.ylabel('Loss')\n",
        "plt.legend()\n",
        "plt.grid(True)\n",
        "\n",
        "# ^^^^^^^^^^^^^^^^^^^^^^^^^^^^^^^^^^^^^^^^^^^^^^^^^^^^^^^^^^^^^^^^^^^^^^^^^^^^^^\n",
        "plt.show()"
      ]
    },
    {
      "cell_type": "markdown",
      "metadata": {
        "id": "180-fQrevQ64"
      },
      "source": [
        "**1.3.7 [1pts]** Evaluate the trained model on both the training and test data, using the most relevant metric from those already imported from TorchMetrics."
      ]
    },
    {
      "cell_type": "code",
      "execution_count": null,
      "metadata": {
        "id": "JETfZaKld3dl",
        "outputId": "c9da6c36-5265-4070-c487-39331f05d511"
      },
      "outputs": [
        {
          "name": "stdout",
          "output_type": "stream",
          "text": [
            "Training metric: 0.931\n",
            "Test metric:     0.904\n"
          ]
        }
      ],
      "source": [
        "# Your solution here ###########################################################\n",
        "\n",
        "# Alternatives: Accuracy, BinaryF1Score, Precision, Recall\n",
        "metric_fn = BinaryF1Score(threshold=0.5).to(device)  # Set the threshold for converting logits to binary predictions\n",
        "\n",
        "metric_tr = eval_nn(mlp, loader_train, metric_fn)\n",
        "metric_te = eval_nn(mlp, loader_test, metric_fn)\n",
        "\n",
        "# ^^^^^^^^^^^^^^^^^^^^^^^^^^^^^^^^^^^^^^^^^^^^^^^^^^^^^^^^^^^^^^^^^^^^^^^^^^^^^^\n",
        "\n",
        "print(f\"Training metric: {metric_tr:.3f}\")\n",
        "print(f\"Test metric:     {metric_te:.3f}\")"
      ]
    },
    {
      "cell_type": "markdown",
      "metadata": {
        "id": "csB2WeikeKHD"
      },
      "source": [
        "**1.3.8 [3pts]** Try different hyperparameters' combinations, in particular for the hidden dimension of the MLP and the learning rate of the optimizer. Then discuss the obtained results and the learning curves."
      ]
    },
    {
      "cell_type": "code",
      "execution_count": null,
      "metadata": {
        "id": "deccQiRZm-GM",
        "outputId": "4a40d1e7-12d0-41a2-e61c-7f22f235c0e6"
      },
      "outputs": [
        {
          "name": "stdout",
          "output_type": "stream",
          "text": [
            "- - - - - - - - - - - - - - - - - - - - - - - - - - - - - - - - - - - - - - - - - - - - - - - - - - - - - - - - - - - - - - - - - - - - - - - - - - - - - - - - - - - - - - - - - - \n",
            "Training with hidden dimension: 4\n",
            "Epoch 1/15, Avg Loss: 0.5068\n",
            "Epoch 2/15, Avg Loss: 0.3732\n",
            "Epoch 3/15, Avg Loss: 0.3534\n",
            "Epoch 4/15, Avg Loss: 0.3476\n",
            "Epoch 5/15, Avg Loss: 0.3446\n",
            "Epoch 6/15, Avg Loss: 0.3429\n",
            "Epoch 7/15, Avg Loss: 0.3416\n",
            "Epoch 8/15, Avg Loss: 0.3406\n",
            "Epoch 9/15, Avg Loss: 0.3400\n",
            "Epoch 10/15, Avg Loss: 0.3396\n",
            "Epoch 11/15, Avg Loss: 0.3394\n",
            "Epoch 12/15, Avg Loss: 0.3387\n",
            "Epoch 13/15, Avg Loss: 0.3379\n",
            "Epoch 14/15, Avg Loss: 0.3379\n",
            "Epoch 15/15, Avg Loss: 0.3376\n",
            "Train F1 Score: 0.910, Test F1 Score: 0.909\n",
            "- - - - - - - - - - - - - - - - - - - - - - - - - - - - - - - - - - - - - - - - - - - - - - - - - - - - - - - - - - - - - - - - - - - - - - - - - - - - - - - - - - - - - - - - - - \n",
            "Training with hidden dimension: 8\n",
            "Epoch 1/15, Avg Loss: 0.4764\n",
            "Epoch 2/15, Avg Loss: 0.4049\n",
            "Epoch 3/15, Avg Loss: 0.3894\n",
            "Epoch 4/15, Avg Loss: 0.3795\n",
            "Epoch 5/15, Avg Loss: 0.3719\n",
            "Epoch 6/15, Avg Loss: 0.3657\n",
            "Epoch 7/15, Avg Loss: 0.3612\n",
            "Epoch 8/15, Avg Loss: 0.3572\n",
            "Epoch 9/15, Avg Loss: 0.3537\n",
            "Epoch 10/15, Avg Loss: 0.3510\n",
            "Epoch 11/15, Avg Loss: 0.3485\n",
            "Epoch 12/15, Avg Loss: 0.3468\n",
            "Epoch 13/15, Avg Loss: 0.3449\n",
            "Epoch 14/15, Avg Loss: 0.3430\n",
            "Epoch 15/15, Avg Loss: 0.3419\n",
            "Train F1 Score: 0.911, Test F1 Score: 0.907\n",
            "- - - - - - - - - - - - - - - - - - - - - - - - - - - - - - - - - - - - - - - - - - - - - - - - - - - - - - - - - - - - - - - - - - - - - - - - - - - - - - - - - - - - - - - - - - \n",
            "Training with hidden dimension: 16\n",
            "Epoch 1/15, Avg Loss: 0.4829\n",
            "Epoch 2/15, Avg Loss: 0.3540\n",
            "Epoch 3/15, Avg Loss: 0.3457\n",
            "Epoch 4/15, Avg Loss: 0.3415\n",
            "Epoch 5/15, Avg Loss: 0.3388\n",
            "Epoch 6/15, Avg Loss: 0.3363\n",
            "Epoch 7/15, Avg Loss: 0.3344\n",
            "Epoch 8/15, Avg Loss: 0.3324\n",
            "Epoch 9/15, Avg Loss: 0.3303\n",
            "Epoch 10/15, Avg Loss: 0.3289\n",
            "Epoch 11/15, Avg Loss: 0.3268\n",
            "Epoch 12/15, Avg Loss: 0.3248\n",
            "Epoch 13/15, Avg Loss: 0.3232\n",
            "Epoch 14/15, Avg Loss: 0.3215\n",
            "Epoch 15/15, Avg Loss: 0.3199\n",
            "Train F1 Score: 0.916, Test F1 Score: 0.910\n",
            "- - - - - - - - - - - - - - - - - - - - - - - - - - - - - - - - - - - - - - - - - - - - - - - - - - - - - - - - - - - - - - - - - - - - - - - - - - - - - - - - - - - - - - - - - - \n",
            "Training with hidden dimension: 32\n",
            "Epoch 1/15, Avg Loss: 0.4361\n",
            "Epoch 2/15, Avg Loss: 0.3488\n",
            "Epoch 3/15, Avg Loss: 0.3413\n",
            "Epoch 4/15, Avg Loss: 0.3377\n",
            "Epoch 5/15, Avg Loss: 0.3335\n",
            "Epoch 6/15, Avg Loss: 0.3302\n",
            "Epoch 7/15, Avg Loss: 0.3264\n",
            "Epoch 8/15, Avg Loss: 0.3236\n",
            "Epoch 9/15, Avg Loss: 0.3204\n",
            "Epoch 10/15, Avg Loss: 0.3171\n",
            "Epoch 11/15, Avg Loss: 0.3134\n",
            "Epoch 12/15, Avg Loss: 0.3103\n",
            "Epoch 13/15, Avg Loss: 0.3074\n",
            "Epoch 14/15, Avg Loss: 0.3042\n",
            "Epoch 15/15, Avg Loss: 0.3013\n",
            "Train F1 Score: 0.920, Test F1 Score: 0.906\n",
            "- - - - - - - - - - - - - - - - - - - - - - - - - - - - - - - - - - - - - - - - - - - - - - - - - - - - - - - - - - - - - - - - - - - - - - - - - - - - - - - - - - - - - - - - - - \n",
            "Training with hidden dimension: 64\n",
            "Epoch 1/15, Avg Loss: 0.3997\n",
            "Epoch 2/15, Avg Loss: 0.3453\n",
            "Epoch 3/15, Avg Loss: 0.3384\n",
            "Epoch 4/15, Avg Loss: 0.3329\n",
            "Epoch 5/15, Avg Loss: 0.3280\n",
            "Epoch 6/15, Avg Loss: 0.3229\n",
            "Epoch 7/15, Avg Loss: 0.3172\n",
            "Epoch 8/15, Avg Loss: 0.3125\n",
            "Epoch 9/15, Avg Loss: 0.3065\n",
            "Epoch 10/15, Avg Loss: 0.3012\n",
            "Epoch 11/15, Avg Loss: 0.2959\n",
            "Epoch 12/15, Avg Loss: 0.2912\n",
            "Epoch 13/15, Avg Loss: 0.2858\n",
            "Epoch 14/15, Avg Loss: 0.2815\n",
            "Epoch 15/15, Avg Loss: 0.2771\n",
            "Train F1 Score: 0.930, Test F1 Score: 0.906\n",
            "- - - - - - - - - - - - - - - - - - - - - - - - - - - - - - - - - - - - - - - - - - - - - - - - - - - - - - - - - - - - - - - - - - - - - - - - - - - - - - - - - - - - - - - - - - \n",
            "Training with hidden dimension: 128\n",
            "Epoch 1/15, Avg Loss: 0.4026\n",
            "Epoch 2/15, Avg Loss: 0.3443\n",
            "Epoch 3/15, Avg Loss: 0.3355\n",
            "Epoch 4/15, Avg Loss: 0.3278\n",
            "Epoch 5/15, Avg Loss: 0.3203\n",
            "Epoch 6/15, Avg Loss: 0.3121\n",
            "Epoch 7/15, Avg Loss: 0.3024\n",
            "Epoch 8/15, Avg Loss: 0.2944\n",
            "Epoch 9/15, Avg Loss: 0.2845\n",
            "Epoch 10/15, Avg Loss: 0.2760\n",
            "Epoch 11/15, Avg Loss: 0.2673\n",
            "Epoch 12/15, Avg Loss: 0.2594\n",
            "Epoch 13/15, Avg Loss: 0.2526\n",
            "Epoch 14/15, Avg Loss: 0.2445\n",
            "Epoch 15/15, Avg Loss: 0.2369\n",
            "Train F1 Score: 0.943, Test F1 Score: 0.896\n",
            "- - - - - - - - - - - - - - - - - - - - - - - - - - - - - - - - - - - - - - - - - - - - - - - - - - - - - - - - - - - - - - - - - - - - - - - - - - - - - - - - - - - - - - - - - - \n",
            "Training with hidden dimension: 256\n",
            "Epoch 1/15, Avg Loss: 0.3797\n",
            "Epoch 2/15, Avg Loss: 0.3412\n",
            "Epoch 3/15, Avg Loss: 0.3300\n",
            "Epoch 4/15, Avg Loss: 0.3202\n",
            "Epoch 5/15, Avg Loss: 0.3094\n",
            "Epoch 6/15, Avg Loss: 0.2977\n",
            "Epoch 7/15, Avg Loss: 0.2847\n",
            "Epoch 8/15, Avg Loss: 0.2731\n",
            "Epoch 9/15, Avg Loss: 0.2612\n",
            "Epoch 10/15, Avg Loss: 0.2495\n",
            "Epoch 11/15, Avg Loss: 0.2407\n",
            "Epoch 12/15, Avg Loss: 0.2292\n",
            "Epoch 13/15, Avg Loss: 0.2198\n",
            "Epoch 14/15, Avg Loss: 0.2102\n",
            "Epoch 15/15, Avg Loss: 0.2020\n",
            "Train F1 Score: 0.953, Test F1 Score: 0.892\n"
          ]
        },
        {
          "data": {
            "image/png": "[encoded data removed]",
            "text/plain": [
              "<Figure size 1000x500 with 1 Axes>"
            ]
          },
          "metadata": {},
          "output_type": "display_data"
        },
        {
          "name": "stdout",
          "output_type": "stream",
          "text": [
            "lr: 0.001 \n"
          ]
        },
        {
          "data": {
            "text/html": [
              "<div>\n",
              "<style scoped>\n",
              "    .dataframe tbody tr th:only-of-type {\n",
              "        vertical-align: middle;\n",
              "    }\n",
              "\n",
              "    .dataframe tbody tr th {\n",
              "        vertical-align: top;\n",
              "    }\n",
              "\n",
              "    .dataframe thead th {\n",
              "        text-align: right;\n",
              "    }\n",
              "</style>\n",
              "<table border=\"1\" class=\"dataframe\">\n",
              "  <thead>\n",
              "    <tr style=\"text-align: right;\">\n",
              "      <th></th>\n",
              "      <th>hidden_dim</th>\n",
              "      <th>eval_tr</th>\n",
              "      <th>eval_te</th>\n",
              "    </tr>\n",
              "  </thead>\n",
              "  <tbody>\n",
              "    <tr>\n",
              "      <th>0</th>\n",
              "      <td>4</td>\n",
              "      <td>0.909858</td>\n",
              "      <td>0.909149</td>\n",
              "    </tr>\n",
              "    <tr>\n",
              "      <th>1</th>\n",
              "      <td>8</td>\n",
              "      <td>0.910717</td>\n",
              "      <td>0.907368</td>\n",
              "    </tr>\n",
              "    <tr>\n",
              "      <th>2</th>\n",
              "      <td>16</td>\n",
              "      <td>0.916301</td>\n",
              "      <td>0.909574</td>\n",
              "    </tr>\n",
              "    <tr>\n",
              "      <th>3</th>\n",
              "      <td>32</td>\n",
              "      <td>0.920412</td>\n",
              "      <td>0.906415</td>\n",
              "    </tr>\n",
              "    <tr>\n",
              "      <th>4</th>\n",
              "      <td>64</td>\n",
              "      <td>0.929698</td>\n",
              "      <td>0.906419</td>\n",
              "    </tr>\n",
              "    <tr>\n",
              "      <th>5</th>\n",
              "      <td>128</td>\n",
              "      <td>0.943224</td>\n",
              "      <td>0.895522</td>\n",
              "    </tr>\n",
              "    <tr>\n",
              "      <th>6</th>\n",
              "      <td>256</td>\n",
              "      <td>0.953003</td>\n",
              "      <td>0.892406</td>\n",
              "    </tr>\n",
              "  </tbody>\n",
              "</table>\n",
              "</div>"
            ],
            "text/plain": [
              "   hidden_dim   eval_tr   eval_te\n",
              "0           4  0.909858  0.909149\n",
              "1           8  0.910717  0.907368\n",
              "2          16  0.916301  0.909574\n",
              "3          32  0.920412  0.906415\n",
              "4          64  0.929698  0.906419\n",
              "5         128  0.943224  0.895522\n",
              "6         256  0.953003  0.892406"
            ]
          },
          "execution_count": 23,
          "metadata": {},
          "output_type": "execute_result"
        }
      ],
      "source": [
        "import pandas as pd\n",
        "\n",
        "in_features = X_train.shape[1]  # Replace with actual size\n",
        "hidden_features = [4,8,16,32,64,128,256]  # Example size, can be tuned\n",
        "learning_rate = 0.001  # Starting learning rate, can be tuned\n",
        "loss_fn = nn.BCEWithLogitsLoss()\n",
        "metric_fn = BinaryF1Score(threshold=0.5).to(device)  # Set the threshold for converting logits to binary predictions\n",
        "\n",
        "model_evaluation = []\n",
        "\n",
        "# Plotting the losses\n",
        "plt.figure(figsize=(10, 5))\n",
        "\n",
        "for hf in hidden_features:\n",
        "    print(\"- - - \"*30)\n",
        "    print('Training with hidden dimension:', hf)\n",
        "    mlp = MLP(in_features=in_features, hidden_features=hf).to(device)\n",
        "    optimizer = torch.optim.Adam(mlp.parameters(), lr=learning_rate)\n",
        "    losses = train_mlp(mlp, loader_train, optimizer, loss_fn, n_epochs, verbose=False)\n",
        "    plt.plot(losses, label=f\"hf: {hf}\")\n",
        "\n",
        "    metric_tr = eval_nn(mlp, loader_train, metric_fn)\n",
        "    metric_te = eval_nn(mlp, loader_test, metric_fn)\n",
        "    print(f\"Train F1 Score: {metric_tr:.3f}, Test F1 Score: {metric_te:.3f}\")\n",
        "\n",
        "    model_evaluation.append({'hidden_dim': hf, 'eval_tr': metric_tr.item(), 'eval_te': metric_te.item()})\n",
        "\n",
        "plt.title('Training Loss Over Different Hidden Dimensions')\n",
        "plt.xlabel('Epoch')\n",
        "plt.ylabel('Loss')\n",
        "plt.legend()\n",
        "plt.grid(True)\n",
        "# ^^^^^^^^^^^^^^^^^^^^^^^^^^^^^^^^^^^^^^^^^^^^^^^^^^^^^^^^^^^^^^^^^^^^^^^^^^^^^^\n",
        "plt.show()\n",
        "\n",
        "print('lr:', learning_rate, \"\")\n",
        "pd.DataFrame(model_evaluation)"
      ]
    },
    {
      "cell_type": "code",
      "execution_count": null,
      "metadata": {
        "id": "ft-pcEj5m-GM",
        "outputId": "520d304a-47a6-43a3-cc25-066f1d7efbf3"
      },
      "outputs": [
        {
          "name": "stdout",
          "output_type": "stream",
          "text": [
            "- - - - - - - - - - - - - - - - - - - - - - - - - - - - - - - - - - - - - - - - - - - - - - - - - - - - - - - - - - - - - - - - - - - - - - - - - - - - - - - - - - - - - - - - - - \n",
            "Training with lr: 0.01\n",
            "Epoch 1/15, Avg Loss: 0.4077\n",
            "Epoch 2/15, Avg Loss: 0.3457\n",
            "Epoch 3/15, Avg Loss: 0.3379\n",
            "Epoch 4/15, Avg Loss: 0.3324\n",
            "Epoch 5/15, Avg Loss: 0.3267\n",
            "Epoch 6/15, Avg Loss: 0.3217\n",
            "Epoch 7/15, Avg Loss: 0.3162\n",
            "Epoch 8/15, Avg Loss: 0.3114\n",
            "Epoch 9/15, Avg Loss: 0.3062\n",
            "Epoch 10/15, Avg Loss: 0.3005\n",
            "Epoch 11/15, Avg Loss: 0.2949\n",
            "Epoch 12/15, Avg Loss: 0.2901\n",
            "Epoch 13/15, Avg Loss: 0.2847\n",
            "Epoch 14/15, Avg Loss: 0.2798\n",
            "Epoch 15/15, Avg Loss: 0.2750\n",
            "Train F1 Score: 0.931, Test F1 Score: 0.902\n",
            "- - - - - - - - - - - - - - - - - - - - - - - - - - - - - - - - - - - - - - - - - - - - - - - - - - - - - - - - - - - - - - - - - - - - - - - - - - - - - - - - - - - - - - - - - - \n",
            "Training with lr: 0.005\n",
            "Epoch 1/15, Avg Loss: 0.4193\n",
            "Epoch 2/15, Avg Loss: 0.3462\n",
            "Epoch 3/15, Avg Loss: 0.3386\n",
            "Epoch 4/15, Avg Loss: 0.3331\n",
            "Epoch 5/15, Avg Loss: 0.3276\n",
            "Epoch 6/15, Avg Loss: 0.3226\n",
            "Epoch 7/15, Avg Loss: 0.3171\n",
            "Epoch 8/15, Avg Loss: 0.3119\n",
            "Epoch 9/15, Avg Loss: 0.3068\n",
            "Epoch 10/15, Avg Loss: 0.3006\n",
            "Epoch 11/15, Avg Loss: 0.2952\n",
            "Epoch 12/15, Avg Loss: 0.2899\n",
            "Epoch 13/15, Avg Loss: 0.2843\n",
            "Epoch 14/15, Avg Loss: 0.2797\n",
            "Epoch 15/15, Avg Loss: 0.2753\n",
            "Train F1 Score: 0.929, Test F1 Score: 0.903\n",
            "- - - - - - - - - - - - - - - - - - - - - - - - - - - - - - - - - - - - - - - - - - - - - - - - - - - - - - - - - - - - - - - - - - - - - - - - - - - - - - - - - - - - - - - - - - \n",
            "Training with lr: 0.001\n",
            "Epoch 1/15, Avg Loss: 0.4132\n",
            "Epoch 2/15, Avg Loss: 0.3452\n",
            "Epoch 3/15, Avg Loss: 0.3381\n",
            "Epoch 4/15, Avg Loss: 0.3334\n",
            "Epoch 5/15, Avg Loss: 0.3277\n",
            "Epoch 6/15, Avg Loss: 0.3225\n",
            "Epoch 7/15, Avg Loss: 0.3174\n",
            "Epoch 8/15, Avg Loss: 0.3109\n",
            "Epoch 9/15, Avg Loss: 0.3053\n",
            "Epoch 10/15, Avg Loss: 0.2993\n",
            "Epoch 11/15, Avg Loss: 0.2928\n",
            "Epoch 12/15, Avg Loss: 0.2883\n",
            "Epoch 13/15, Avg Loss: 0.2827\n",
            "Epoch 14/15, Avg Loss: 0.2773\n",
            "Epoch 15/15, Avg Loss: 0.2722\n",
            "Train F1 Score: 0.932, Test F1 Score: 0.905\n",
            "- - - - - - - - - - - - - - - - - - - - - - - - - - - - - - - - - - - - - - - - - - - - - - - - - - - - - - - - - - - - - - - - - - - - - - - - - - - - - - - - - - - - - - - - - - \n",
            "Training with lr: 0.0005\n",
            "Epoch 1/15, Avg Loss: 0.4209\n",
            "Epoch 2/15, Avg Loss: 0.3462\n",
            "Epoch 3/15, Avg Loss: 0.3387\n",
            "Epoch 4/15, Avg Loss: 0.3329\n",
            "Epoch 5/15, Avg Loss: 0.3279\n",
            "Epoch 6/15, Avg Loss: 0.3226\n",
            "Epoch 7/15, Avg Loss: 0.3174\n",
            "Epoch 8/15, Avg Loss: 0.3119\n",
            "Epoch 9/15, Avg Loss: 0.3057\n",
            "Epoch 10/15, Avg Loss: 0.2996\n",
            "Epoch 11/15, Avg Loss: 0.2937\n",
            "Epoch 12/15, Avg Loss: 0.2888\n",
            "Epoch 13/15, Avg Loss: 0.2826\n",
            "Epoch 14/15, Avg Loss: 0.2776\n",
            "Epoch 15/15, Avg Loss: 0.2735\n",
            "Train F1 Score: 0.931, Test F1 Score: 0.906\n",
            "- - - - - - - - - - - - - - - - - - - - - - - - - - - - - - - - - - - - - - - - - - - - - - - - - - - - - - - - - - - - - - - - - - - - - - - - - - - - - - - - - - - - - - - - - - \n",
            "Training with lr: 0.0001\n",
            "Epoch 1/15, Avg Loss: 0.4103\n",
            "Epoch 2/15, Avg Loss: 0.3450\n",
            "Epoch 3/15, Avg Loss: 0.3376\n",
            "Epoch 4/15, Avg Loss: 0.3321\n",
            "Epoch 5/15, Avg Loss: 0.3264\n",
            "Epoch 6/15, Avg Loss: 0.3214\n",
            "Epoch 7/15, Avg Loss: 0.3155\n",
            "Epoch 8/15, Avg Loss: 0.3095\n",
            "Epoch 9/15, Avg Loss: 0.3038\n",
            "Epoch 10/15, Avg Loss: 0.2977\n",
            "Epoch 11/15, Avg Loss: 0.2922\n",
            "Epoch 12/15, Avg Loss: 0.2864\n",
            "Epoch 13/15, Avg Loss: 0.2813\n",
            "Epoch 14/15, Avg Loss: 0.2763\n",
            "Epoch 15/15, Avg Loss: 0.2714\n",
            "Train F1 Score: 0.931, Test F1 Score: 0.906\n",
            "- - - - - - - - - - - - - - - - - - - - - - - - - - - - - - - - - - - - - - - - - - - - - - - - - - - - - - - - - - - - - - - - - - - - - - - - - - - - - - - - - - - - - - - - - - \n",
            "Training with lr: 5e-05\n",
            "Epoch 1/15, Avg Loss: 0.4296\n",
            "Epoch 2/15, Avg Loss: 0.3467\n",
            "Epoch 3/15, Avg Loss: 0.3399\n",
            "Epoch 4/15, Avg Loss: 0.3332\n",
            "Epoch 5/15, Avg Loss: 0.3288\n",
            "Epoch 6/15, Avg Loss: 0.3231\n",
            "Epoch 7/15, Avg Loss: 0.3181\n",
            "Epoch 8/15, Avg Loss: 0.3120\n",
            "Epoch 9/15, Avg Loss: 0.3054\n",
            "Epoch 10/15, Avg Loss: 0.2995\n",
            "Epoch 11/15, Avg Loss: 0.2926\n",
            "Epoch 12/15, Avg Loss: 0.2879\n",
            "Epoch 13/15, Avg Loss: 0.2822\n",
            "Epoch 14/15, Avg Loss: 0.2771\n",
            "Epoch 15/15, Avg Loss: 0.2722\n",
            "Train F1 Score: 0.930, Test F1 Score: 0.902\n",
            "- - - - - - - - - - - - - - - - - - - - - - - - - - - - - - - - - - - - - - - - - - - - - - - - - - - - - - - - - - - - - - - - - - - - - - - - - - - - - - - - - - - - - - - - - - \n",
            "Training with lr: 1e-05\n",
            "Epoch 1/15, Avg Loss: 0.4227\n",
            "Epoch 2/15, Avg Loss: 0.3473\n",
            "Epoch 3/15, Avg Loss: 0.3396\n",
            "Epoch 4/15, Avg Loss: 0.3344\n",
            "Epoch 5/15, Avg Loss: 0.3290\n",
            "Epoch 6/15, Avg Loss: 0.3235\n",
            "Epoch 7/15, Avg Loss: 0.3184\n",
            "Epoch 8/15, Avg Loss: 0.3122\n",
            "Epoch 9/15, Avg Loss: 0.3067\n",
            "Epoch 10/15, Avg Loss: 0.3011\n",
            "Epoch 11/15, Avg Loss: 0.2946\n",
            "Epoch 12/15, Avg Loss: 0.2885\n",
            "Epoch 13/15, Avg Loss: 0.2836\n",
            "Epoch 14/15, Avg Loss: 0.2787\n",
            "Epoch 15/15, Avg Loss: 0.2739\n",
            "Train F1 Score: 0.932, Test F1 Score: 0.904\n"
          ]
        },
        {
          "data": {
            "image/png": "[encoded data removed]",
            "text/plain": [
              "<Figure size 1000x500 with 1 Axes>"
            ]
          },
          "metadata": {},
          "output_type": "display_data"
        },
        {
          "name": "stdout",
          "output_type": "stream",
          "text": [
            "lr: 0.001 \n"
          ]
        },
        {
          "data": {
            "text/html": [
              "<div>\n",
              "<style scoped>\n",
              "    .dataframe tbody tr th:only-of-type {\n",
              "        vertical-align: middle;\n",
              "    }\n",
              "\n",
              "    .dataframe tbody tr th {\n",
              "        vertical-align: top;\n",
              "    }\n",
              "\n",
              "    .dataframe thead th {\n",
              "        text-align: right;\n",
              "    }\n",
              "</style>\n",
              "<table border=\"1\" class=\"dataframe\">\n",
              "  <thead>\n",
              "    <tr style=\"text-align: right;\">\n",
              "      <th></th>\n",
              "      <th>lr</th>\n",
              "      <th>eval_tr</th>\n",
              "      <th>eval_te</th>\n",
              "    </tr>\n",
              "  </thead>\n",
              "  <tbody>\n",
              "    <tr>\n",
              "      <th>0</th>\n",
              "      <td>0.01000</td>\n",
              "      <td>0.931445</td>\n",
              "      <td>0.902445</td>\n",
              "    </tr>\n",
              "    <tr>\n",
              "      <th>1</th>\n",
              "      <td>0.00500</td>\n",
              "      <td>0.929246</td>\n",
              "      <td>0.902960</td>\n",
              "    </tr>\n",
              "    <tr>\n",
              "      <th>2</th>\n",
              "      <td>0.00100</td>\n",
              "      <td>0.932025</td>\n",
              "      <td>0.905487</td>\n",
              "    </tr>\n",
              "    <tr>\n",
              "      <th>3</th>\n",
              "      <td>0.00050</td>\n",
              "      <td>0.930921</td>\n",
              "      <td>0.906033</td>\n",
              "    </tr>\n",
              "    <tr>\n",
              "      <th>4</th>\n",
              "      <td>0.00010</td>\n",
              "      <td>0.931117</td>\n",
              "      <td>0.906462</td>\n",
              "    </tr>\n",
              "    <tr>\n",
              "      <th>5</th>\n",
              "      <td>0.00005</td>\n",
              "      <td>0.930495</td>\n",
              "      <td>0.901983</td>\n",
              "    </tr>\n",
              "    <tr>\n",
              "      <th>6</th>\n",
              "      <td>0.00001</td>\n",
              "      <td>0.931503</td>\n",
              "      <td>0.903857</td>\n",
              "    </tr>\n",
              "  </tbody>\n",
              "</table>\n",
              "</div>"
            ],
            "text/plain": [
              "        lr   eval_tr   eval_te\n",
              "0  0.01000  0.931445  0.902445\n",
              "1  0.00500  0.929246  0.902960\n",
              "2  0.00100  0.932025  0.905487\n",
              "3  0.00050  0.930921  0.906033\n",
              "4  0.00010  0.931117  0.906462\n",
              "5  0.00005  0.930495  0.901983\n",
              "6  0.00001  0.931503  0.903857"
            ]
          },
          "execution_count": 25,
          "metadata": {},
          "output_type": "execute_result"
        }
      ],
      "source": [
        "import pandas as pd\n",
        "\n",
        "in_features = X_train.shape[1]  # Replace with actual size\n",
        "hidden_dim = 64  # Example size, can be tuned\n",
        "learning_rates = [1e-2, 5e-3, 1e-3, 5e-4, 1e-4, 5e-5, 1e-5]  # Starting learning rate, can be tuned\n",
        "loss_fn = nn.BCEWithLogitsLoss()\n",
        "metric_fn = BinaryF1Score(threshold=0.5).to(device)  # Set the threshold for converting logits to binary predictions\n",
        "\n",
        "model_evaluation = []\n",
        "\n",
        "# Plotting the losses\n",
        "plt.figure(figsize=(10, 5))\n",
        "\n",
        "for lr in learning_rates:\n",
        "    print(\"- - - \"*30)\n",
        "    print('Training with lr:', lr)\n",
        "    mlp = MLP(in_features=in_features, hidden_features=hidden_dim).to(device)\n",
        "    optimizer = torch.optim.Adam(mlp.parameters(), lr=learning_rate)\n",
        "    losses = train_mlp(mlp, loader_train, optimizer, loss_fn, n_epochs, verbose=False)\n",
        "    plt.plot(losses, label=f\"hf: {hf}\")\n",
        "\n",
        "    metric_tr = eval_nn(mlp, loader_train, metric_fn)\n",
        "    metric_te = eval_nn(mlp, loader_test, metric_fn)\n",
        "    print(f\"Train F1 Score: {metric_tr:.3f}, Test F1 Score: {metric_te:.3f}\")\n",
        "\n",
        "    model_evaluation.append({'lr': lr, 'eval_tr': metric_tr.item(), 'eval_te': metric_te.item()})\n",
        "\n",
        "plt.title('Training Loss Over Different Learning Rates')\n",
        "plt.xlabel('Epoch')\n",
        "plt.ylabel('Loss')\n",
        "plt.legend()\n",
        "plt.grid(True)\n",
        "# ^^^^^^^^^^^^^^^^^^^^^^^^^^^^^^^^^^^^^^^^^^^^^^^^^^^^^^^^^^^^^^^^^^^^^^^^^^^^^^\n",
        "plt.show()\n",
        "\n",
        "print('lr:', learning_rate, \"\")\n",
        "pd.DataFrame(model_evaluation)"
      ]
    },
    {
      "cell_type": "markdown",
      "metadata": {
        "id": "wcX8v2A0OlhQ"
      },
      "source": [
        "**Your answer here:**\n",
        "..."
      ]
    },
    {
      "cell_type": "markdown",
      "metadata": {
        "id": "hIJUsBUzO3pU"
      },
      "source": [
        "### Question 1.4: Graph Neural Networks (20 points)\n",
        "\n",
        "We will now shift from the standard deep learning paradigm to Graph Neural Networks, to leverage the additional structure of our data.\n",
        "\n",
        "We already imported [PyTorch Geometric][torch_geometric] as `pyg`, so you can access its submodules as `pyg.nn`, `pyg.data` and so on.\n",
        "\n",
        "[torch_geometric]: https://pytorch-geometric.readthedocs.io/en/latest/index.html"
      ]
    },
    {
      "cell_type": "markdown",
      "metadata": {
        "id": "F0decSDJ6Cag"
      },
      "source": [
        "**1.4.1 [2pts]** Let's start by defining our first GNN. Again, it will be a subclass of the PyTorch `Module`, but this time it will take into account the `edge_index` in its `forward method`. Use two [GCN layers][gcn] to go from input features, here called *channels*, to a hidden dimension defined in the constructor, then to logit readout. Use ReLU activations.\n",
        "\n",
        "This GNN will map node vectors to node logits, so we can directly read out node probabilities from\n",
        "\n",
        "[gcn]: https://pytorch-geometric.readthedocs.io/en/latest/generated/torch_geometric.nn.conv.GCNConv.html"
      ]
    },
    {
      "cell_type": "code",
      "execution_count": null,
      "metadata": {
        "id": "NhIU33lY6H-Q"
      },
      "outputs": [],
      "source": [
        "import torch_geometric as pyg\n",
        "\n",
        "class GCN(nn.Module):\n",
        "    # Your solution here #######################################################\n",
        "    def __init__(self, in_channels: int, hidden_channels: int):\n",
        "        super(GCN, self).__init__()\n",
        "        # First GCN layer, input to hidden\n",
        "        self.conv1 = pyg.nn.GCNConv(in_channels, hidden_channels)\n",
        "        # Second GCN layer, hidden to output\n",
        "        self.conv2 = pyg.nn.GCNConv(hidden_channels, 1)  # Assuming output is 1-dimensional logits per node\n",
        "\n",
        "        # Activation function\n",
        "        self.relu = nn.ReLU()\n",
        "\n",
        "    def forward(self, x, edge_index):\n",
        "        # Apply first GCN layer\n",
        "        x = self.conv1(x, edge_index)\n",
        "        # Apply ReLU activation\n",
        "        x = self.relu(x)\n",
        "        # Apply second GCN layer\n",
        "        x = self.conv2(x, edge_index)\n",
        "        return x\n",
        "\n",
        "    # ^^^^^^^^^^^^^^^^^^^^^^^^^^^^^^^^^^^^^^^^^^^^^^^^^^^^^^^^^^^^^^^^^^^^^^^^^^"
      ]
    },
    {
      "cell_type": "markdown",
      "metadata": {
        "id": "BwZEvTJlHbKb"
      },
      "source": [
        "**1.4.2 [3pts]** Perform `n_epochs` of training of a GCN model with 64 hidden channels, using full training data as a batch. Make sure to only use training data in the loss computation by using the `train_mask`. Track the loss value at each step and plot it. Finally, evaluate the model on train and test, using the `metric_fn` from before."
      ]
    },
    {
      "cell_type": "code",
      "execution_count": null,
      "metadata": {
        "colab": {
          "base_uri": "https://localhost:8080/",
          "height": 742
        },
        "id": "wErcNKMsm-GN",
        "outputId": "daad3a0d-f248-4d60-cf80-84c48259418b"
      },
      "outputs": [
        {
          "name": "stdout",
          "output_type": "stream",
          "text": [
            "Epoch 1: Loss 0.7279650568962097\n",
            "Epoch 2: Loss 0.7137547135353088\n",
            "Epoch 3: Loss 0.7000012993812561\n",
            "Epoch 4: Loss 0.6867068409919739\n",
            "Epoch 5: Loss 0.6738687753677368\n",
            "Epoch 6: Loss 0.6614893078804016\n",
            "Epoch 7: Loss 0.6495608687400818\n",
            "Epoch 8: Loss 0.6380778551101685\n",
            "Epoch 9: Loss 0.6270378828048706\n",
            "Epoch 10: Loss 0.6164253950119019\n",
            "Epoch 11: Loss 0.6062235236167908\n",
            "Epoch 12: Loss 0.5964053869247437\n",
            "Epoch 13: Loss 0.5869629979133606\n",
            "Epoch 14: Loss 0.5778838396072388\n",
            "Epoch 15: Loss 0.5691447854042053\n"
          ]
        },
        {
          "data": {
            "image/png": "[encoded data removed]",
            "text/plain": [
              "<Figure size 1000x500 with 1 Axes>"
            ]
          },
          "metadata": {},
          "output_type": "display_data"
        }
      ],
      "source": [
        "from tqdm import tqdm\n",
        "\n",
        "n_epochs = 15\n",
        "in_features = data.x.shape[1]\n",
        "hidden_dim = 64\n",
        "gcn = GCN(in_channels=in_features, hidden_channels=hidden_dim).to(device)\n",
        "\n",
        "learning_rate = 1e-3\n",
        "optimizer = torch.optim.Adam(gcn.parameters(), lr=learning_rate)\n",
        "loss_fn = nn.BCEWithLogitsLoss()\n",
        "\n",
        "def train_gnn(data, model, optimizer, loss_fn):\n",
        "  # Ensure data is on the correct device\n",
        "  x = data.x.to(device)\n",
        "  edge_index = data.edge_index.to(device)\n",
        "  y = data.y.float().to(device)  # Convert to float if not already\n",
        "\n",
        "  epoch_loss = []\n",
        "\n",
        "  # Your solution here ###########################################################\n",
        "  for epoch in range(n_epochs):\n",
        "      model.train()\n",
        "      optimizer.zero_grad()\n",
        "      out = model(x, edge_index).squeeze()\n",
        "      loss = loss_fn(out[train_mask], y[train_mask])\n",
        "      epoch_loss.append(loss.item())\n",
        "\n",
        "      loss.backward()\n",
        "      optimizer.step()\n",
        "\n",
        "      print(f\"Epoch {epoch+1}: Loss {loss.item()}\")\n",
        "\n",
        "  # Plotting the losses\n",
        "  plt.figure(figsize=(10, 5))\n",
        "  plt.plot(epoch_loss, label='Training Loss')\n",
        "  plt.title('GCN Training Loss Over Epochs')\n",
        "  plt.xlabel('Epoch')\n",
        "  plt.ylabel('Loss')\n",
        "  plt.legend()\n",
        "  plt.grid(True)\n",
        "  plt.show()\n",
        "  # ^^^^^^^^^^^^^^^^^^^^^^^^^^^^^^^^^^^^^^^^^^^^^^^^^^^^^^^^^^^^^^^^^^^^^^^^^^^^^^\n",
        "\n",
        "train_gnn(data, gcn, optimizer, loss_fn)\n"
      ]
    },
    {
      "cell_type": "code",
      "execution_count": null,
      "metadata": {
        "colab": {
          "base_uri": "https://localhost:8080/"
        },
        "id": "1r_lqGXAm-GN",
        "outputId": "a7a88f5b-fbf3-44c0-c815-2804fe1fd6ef"
      },
      "outputs": [
        {
          "name": "stdout",
          "output_type": "stream",
          "text": [
            "Training metric: 0.880\n",
            "Test metric:     0.886\n"
          ]
        }
      ],
      "source": [
        "def eval_gnn(model: nn.Module, data, mask: torch.Tensor, metric_fn: Metric) -> float:\n",
        "    model.eval()  # Set the model to evaluation mode\n",
        "    with torch.no_grad():\n",
        "        outputs = model(data.x.to(device), data.edge_index.to(device)).squeeze()\n",
        "        preds = torch.sigmoid(outputs)  # Convert logits to probabilities\n",
        "        # Apply mask to focus on the relevant nodes\n",
        "        preds_masked = preds[mask]\n",
        "        y_masked = data.y[mask].float().to(device)\n",
        "        metric_fn.update(preds_masked, y_masked)\n",
        "\n",
        "    final_metric = metric_fn.compute()\n",
        "    metric_fn.reset()  # Reset the metric for future evaluations\n",
        "    return final_metric\n",
        "\n",
        "\n",
        "metric_fn = BinaryF1Score(threshold=0.5).to(device)\n",
        "metric_tr, metric_te = eval_gnn(gcn, data, train_mask, metric_fn), eval_gnn(gcn, data, ~train_mask, metric_fn),\n",
        "\n",
        "# ^^^^^^^^^^^^^^^^^^^^^^^^^^^^^^^^^^^^^^^^^^^^^^^^^^^^^^^^^^^^^^^^^^^^^^^^^^^^^^\n",
        "\n",
        "print(f\"Training metric: {metric_tr:.3f}\")\n",
        "print(f\"Test metric:     {metric_te:.3f}\")"
      ]
    },
    {
      "cell_type": "markdown",
      "metadata": {
        "id": "ceMxKgYzOmGI"
      },
      "source": [
        "**1.4.3 [2pts]** Hopefully, we got already some good results, but we would like to test whether stochastic optimization might be better. Batching graph data requires a particular approach, since on top of the design matrix with node features we have to account for edge information. In our setting, we have a single graph with many nodes, and a node level task. A batching strategy consists in sampling nodes with their neighbors, then working with this smaller graphs in a batched way.\n",
        "\n",
        "Define one [NeighborLoader][neighborloader] for the training data, which will gather neighbors for as many *iterations* as layers in your GCN.\n",
        "\n",
        "References:\n",
        "- [Mini batches](https://pytorch-geometric.readthedocs.io/en/latest/get_started/introduction.html#mini-batches)\n",
        "\n",
        "[neighborloader]: https://pytorch-geometric.readthedocs.io/en/latest/modules/loader.html#torch_geometric.loader.NeighborLoader"
      ]
    },
    {
      "cell_type": "code",
      "execution_count": null,
      "metadata": {
        "id": "RbtiFv4a4aPW"
      },
      "outputs": [],
      "source": [
        "batch_size = 1024\n",
        "\n",
        "# Your solution here ###########################################################\n",
        "num_neighbours = 30\n",
        "num_hops = 2\n",
        "\n",
        "loader_graph_train = pyg.loader.NeighborLoader(\n",
        "    data,\n",
        "    num_neighbors=[num_neighbours] * num_hops,\n",
        "    batch_size=batch_size,\n",
        "    input_nodes=train_mask,\n",
        "    shuffle=True,\n",
        "    drop_last=False\n",
        ")\n",
        "\n",
        "# ^^^^^^^^^^^^^^^^^^^^^^^^^^^^^^^^^^^^^^^^^^^^^^^^^^^^^^^^^^^^^^^^^^^^^^^^^^^^^^"
      ]
    },
    {
      "cell_type": "markdown",
      "metadata": {
        "id": "g18kADvUSJV2"
      },
      "source": [
        "**1.4.4 [1pt]** Use the previously defined `train_nn_step` to train a newly initialized GCN with the new loader. Again plot the loss evolution and evaluate the trained model on train and test data."
      ]
    },
    {
      "cell_type": "code",
      "execution_count": null,
      "metadata": {
        "id": "mBZm9tkHaIOE"
      },
      "outputs": [],
      "source": [
        "# train_nn_step does not take edge_index as an argument...\n",
        "def train_gnn_step(\n",
        "    optimizer: optim.Optimizer,\n",
        "    loss_fn: nn.Module,\n",
        "    model: nn.Module,\n",
        "    x: torch.Tensor,\n",
        "    edge_index: torch.Tensor,\n",
        "    y: torch.Tensor,\n",
        ") -> float:\n",
        "    model.train()  # Used to ensure that relevant blocks are in training mode\n",
        "\n",
        "    # Your solution here #######################################################\n",
        "\n",
        "    # Clear previous gradients\n",
        "    optimizer.zero_grad()\n",
        "\n",
        "    outputs = model(x, edge_index).squeeze() # Changes shape from [128, 1] to [128]\n",
        "\n",
        "    loss = loss_fn(outputs, y.float())\n",
        "\n",
        "    loss.backward()\n",
        "\n",
        "    optimizer.step()\n",
        "\n",
        "    return loss.item()\n",
        "\n",
        "    # ^^^^^^^^^^^^^^^^^^^^^^^^^^^^^^^^^^^^^^^^^^^^^^^^^^^^^^^^^^^^^^^^^^^^^^^^^^"
      ]
    },
    {
      "cell_type": "code",
      "execution_count": null,
      "metadata": {
        "colab": {
          "base_uri": "https://localhost:8080/",
          "height": 759
        },
        "id": "A127T8Xld3Zz",
        "outputId": "01208369-c7ea-43ea-a4c9-ee052cabe68d"
      },
      "outputs": [
        {
          "name": "stderr",
          "output_type": "stream",
          "text": [
            "Epochs:   7%|▋         | 1/15 [00:02<00:28,  2.02s/it]"
          ]
        },
        {
          "name": "stdout",
          "output_type": "stream",
          "text": [
            "Epoch 1: Average Loss 0.5595\n"
          ]
        },
        {
          "name": "stderr",
          "output_type": "stream",
          "text": [
            "\rEpochs:  13%|█▎        | 2/15 [00:03<00:19,  1.50s/it]"
          ]
        },
        {
          "name": "stdout",
          "output_type": "stream",
          "text": [
            "Epoch 2: Average Loss 0.3903\n"
          ]
        },
        {
          "name": "stderr",
          "output_type": "stream",
          "text": [
            "\rEpochs:  20%|██        | 3/15 [00:04<00:15,  1.28s/it]"
          ]
        },
        {
          "name": "stdout",
          "output_type": "stream",
          "text": [
            "Epoch 3: Average Loss 0.3641\n"
          ]
        },
        {
          "name": "stderr",
          "output_type": "stream",
          "text": [
            "\rEpochs:  27%|██▋       | 4/15 [00:05<00:12,  1.17s/it]"
          ]
        },
        {
          "name": "stdout",
          "output_type": "stream",
          "text": [
            "Epoch 4: Average Loss 0.3530\n"
          ]
        },
        {
          "name": "stderr",
          "output_type": "stream",
          "text": [
            "\rEpochs:  33%|███▎      | 5/15 [00:05<00:10,  1.00s/it]"
          ]
        },
        {
          "name": "stdout",
          "output_type": "stream",
          "text": [
            "Epoch 5: Average Loss 0.3459\n"
          ]
        },
        {
          "name": "stderr",
          "output_type": "stream",
          "text": [
            "\rEpochs:  40%|████      | 6/15 [00:06<00:08,  1.11it/s]"
          ]
        },
        {
          "name": "stdout",
          "output_type": "stream",
          "text": [
            "Epoch 6: Average Loss 0.3402\n"
          ]
        },
        {
          "name": "stderr",
          "output_type": "stream",
          "text": [
            "\rEpochs:  47%|████▋     | 7/15 [00:07<00:06,  1.20it/s]"
          ]
        },
        {
          "name": "stdout",
          "output_type": "stream",
          "text": [
            "Epoch 7: Average Loss 0.3368\n"
          ]
        },
        {
          "name": "stderr",
          "output_type": "stream",
          "text": [
            "\rEpochs:  53%|█████▎    | 8/15 [00:07<00:05,  1.27it/s]"
          ]
        },
        {
          "name": "stdout",
          "output_type": "stream",
          "text": [
            "Epoch 8: Average Loss 0.3333\n"
          ]
        },
        {
          "name": "stderr",
          "output_type": "stream",
          "text": [
            "\rEpochs:  60%|██████    | 9/15 [00:08<00:04,  1.33it/s]"
          ]
        },
        {
          "name": "stdout",
          "output_type": "stream",
          "text": [
            "Epoch 9: Average Loss 0.3304\n"
          ]
        },
        {
          "name": "stderr",
          "output_type": "stream",
          "text": [
            "\rEpochs:  67%|██████▋   | 10/15 [00:09<00:03,  1.37it/s]"
          ]
        },
        {
          "name": "stdout",
          "output_type": "stream",
          "text": [
            "Epoch 10: Average Loss 0.3266\n"
          ]
        },
        {
          "name": "stderr",
          "output_type": "stream",
          "text": [
            "\rEpochs:  73%|███████▎  | 11/15 [00:10<00:02,  1.40it/s]"
          ]
        },
        {
          "name": "stdout",
          "output_type": "stream",
          "text": [
            "Epoch 11: Average Loss 0.3239\n"
          ]
        },
        {
          "name": "stderr",
          "output_type": "stream",
          "text": [
            "\rEpochs:  80%|████████  | 12/15 [00:10<00:02,  1.42it/s]"
          ]
        },
        {
          "name": "stdout",
          "output_type": "stream",
          "text": [
            "Epoch 12: Average Loss 0.3223\n"
          ]
        },
        {
          "name": "stderr",
          "output_type": "stream",
          "text": [
            "\rEpochs:  87%|████████▋ | 13/15 [00:11<00:01,  1.44it/s]"
          ]
        },
        {
          "name": "stdout",
          "output_type": "stream",
          "text": [
            "Epoch 13: Average Loss 0.3196\n"
          ]
        },
        {
          "name": "stderr",
          "output_type": "stream",
          "text": [
            "\rEpochs:  93%|█████████▎| 14/15 [00:12<00:00,  1.39it/s]"
          ]
        },
        {
          "name": "stdout",
          "output_type": "stream",
          "text": [
            "Epoch 14: Average Loss 0.3170\n"
          ]
        },
        {
          "name": "stderr",
          "output_type": "stream",
          "text": [
            "Epochs: 100%|██████████| 15/15 [00:13<00:00,  1.15it/s]"
          ]
        },
        {
          "name": "stdout",
          "output_type": "stream",
          "text": [
            "Epoch 15: Average Loss 0.3155\n"
          ]
        },
        {
          "name": "stderr",
          "output_type": "stream",
          "text": [
            "\n"
          ]
        },
        {
          "data": {
            "image/png": "[encoded data removed]",
            "text/plain": [
              "<Figure size 1000x500 with 1 Axes>"
            ]
          },
          "metadata": {},
          "output_type": "display_data"
        }
      ],
      "source": [
        "from tqdm import tqdm\n",
        "\n",
        "n_epochs = 15\n",
        "in_features = data.x.shape[1]\n",
        "hidden_dim = 64\n",
        "gcn = GCN(in_channels=in_features, hidden_channels=hidden_dim).to(device)\n",
        "\n",
        "learning_rate = 1e-3\n",
        "optimizer = torch.optim.Adam(gcn.parameters(), lr=learning_rate)\n",
        "loss_fn = nn.BCEWithLogitsLoss()\n",
        "\n",
        "\n",
        "def train_gnn_batched(data, model, optimizer, loss_fn):\n",
        "  all_losses = []\n",
        "\n",
        "  # Your solution here ###########################################################\n",
        "  for epoch in tqdm(range(n_epochs), desc='Epochs'):\n",
        "      batch_losses = []\n",
        "      for batch_data in data:\n",
        "          batch_data = batch_data.to(device)\n",
        "\n",
        "          loss = train_gnn_step(\n",
        "              optimizer,\n",
        "              loss_fn,\n",
        "              model,\n",
        "              batch_data.x,\n",
        "              batch_data.edge_index,\n",
        "              batch_data.y  # Ensure that y is masked appropriately\n",
        "          )\n",
        "          batch_losses.append(loss)\n",
        "      epoch_loss = sum(batch_losses) / len(batch_losses)\n",
        "      all_losses.append(epoch_loss)\n",
        "      print(f\"Epoch {epoch+1}: Average Loss {epoch_loss:.4f}\")\n",
        "\n",
        "  # Plotting the losses\n",
        "  plt.figure(figsize=(10, 5))\n",
        "  plt.plot(all_losses, label='Training Loss')\n",
        "  plt.title('GNN Training Loss Over Epochs')\n",
        "  plt.xlabel('Epoch')\n",
        "  plt.ylabel('Loss')\n",
        "  plt.legend()\n",
        "  plt.grid(True)\n",
        "  # ^^^^^^^^^^^^^^^^^^^^^^^^^^^^^^^^^^^^^^^^^^^^^^^^^^^^^^^^^^^^^^^^^^^^^^^^^^^^^^\n",
        "  plt.show()\n",
        "\n",
        "train_gnn_batched(loader_graph_train, gcn, optimizer, loss_fn)\n"
      ]
    },
    {
      "cell_type": "markdown",
      "metadata": {
        "id": "a1ymNskzZ2Mx"
      },
      "source": [
        "**1.4.5 [1pts]** Predict the label probabilities of each node and evaluate."
      ]
    },
    {
      "cell_type": "code",
      "execution_count": null,
      "metadata": {
        "colab": {
          "base_uri": "https://localhost:8080/"
        },
        "id": "xCApzHuVd3ja",
        "outputId": "540abf61-0001-492e-dc57-21cf7d28663a"
      },
      "outputs": [
        {
          "name": "stdout",
          "output_type": "stream",
          "text": [
            "Training metric: 0.910\n",
            "Test metric:     0.916\n"
          ]
        }
      ],
      "source": [
        "# Your solution here ###########################################################\n",
        "\n",
        "metric_tr, metric_te = eval_gnn(gcn, data, train_mask, metric_fn), eval_gnn(gcn, data, ~train_mask, metric_fn)\n",
        "\n",
        "# ^^^^^^^^^^^^^^^^^^^^^^^^^^^^^^^^^^^^^^^^^^^^^^^^^^^^^^^^^^^^^^^^^^^^^^^^^^^^^^\n",
        "\n",
        "print(f\"Training metric: {metric_tr:.3f}\")\n",
        "print(f\"Test metric:     {metric_te:.3f}\")"
      ]
    },
    {
      "cell_type": "markdown",
      "metadata": {
        "id": "tfw4YpuYbJwT"
      },
      "source": [
        "**1.4.6 [2pts]** Define a new GNN architecture using [graph attention layers][gat].\n",
        "\n",
        "[gat]: https://pytorch-geometric.readthedocs.io/en/latest/generated/torch_geometric.nn.conv.GATv2Conv.html#torch_geometric.nn.conv.GATv2Conv"
      ]
    },
    {
      "cell_type": "code",
      "execution_count": null,
      "metadata": {
        "id": "QgMuSdBgbmHP"
      },
      "outputs": [],
      "source": [
        "class GAT(nn.Module):\n",
        "    # Your solution here #######################################################\n",
        "    def __init__(self, in_channels: int, hidden_channels: int):\n",
        "        super(GAT, self).__init__()\n",
        "        # First GAT layer, transforming input features to hidden dimensions\n",
        "        self.conv1 = pyg.nn.GATv2Conv(in_channels, hidden_channels, heads=8, dropout=0.6)\n",
        "        # Second GAT layer, from hidden dimensions to output features\n",
        "        # Using multiple heads and concatenating them typically helps learning\n",
        "        self.conv2 = pyg.nn.GATv2Conv(hidden_channels * 8, 1, heads=1, concat=False, dropout=0.6)\n",
        "        self.relu = nn.ReLU()\n",
        "\n",
        "    def forward(self, x, edge_index):\n",
        "        # Input features are transformed by the first GAT layer\n",
        "        x = self.relu(self.conv1(x, edge_index))\n",
        "        # Output from the first layer passed through second GAT layer\n",
        "        x = self.conv2(x, edge_index)\n",
        "        return x\n",
        "\n",
        "    # ^^^^^^^^^^^^^^^^^^^^^^^^^^^^^^^^^^^^^^^^^^^^^^^^^^^^^^^^^^^^^^^^^^^^^^^^^^"
      ]
    },
    {
      "cell_type": "markdown",
      "metadata": {
        "id": "RlTRMkPYb2zc"
      },
      "source": [
        "**1.4.7 [3pts]** Train and evaluate the GAT model with both methods."
      ]
    },
    {
      "cell_type": "code",
      "execution_count": null,
      "metadata": {
        "colab": {
          "base_uri": "https://localhost:8080/",
          "height": 1000
        },
        "id": "mzVw3nEAX83K",
        "outputId": "0cd8ff38-c092-479e-9672-035a7060a0ef"
      },
      "outputs": [
        {
          "name": "stdout",
          "output_type": "stream",
          "text": [
            "FULL TRAINING\n",
            "Epoch 1: Loss 0.691431999206543\n",
            "Epoch 2: Loss 0.6261398792266846\n",
            "Epoch 3: Loss 0.5814621448516846\n",
            "Epoch 4: Loss 0.5487048625946045\n",
            "Epoch 5: Loss 0.5263000130653381\n",
            "Epoch 6: Loss 0.5093005299568176\n",
            "Epoch 7: Loss 0.4957556426525116\n",
            "Epoch 8: Loss 0.4821348190307617\n",
            "Epoch 9: Loss 0.47281548380851746\n",
            "Epoch 10: Loss 0.4698854982852936\n",
            "Epoch 11: Loss 0.4677165150642395\n",
            "Epoch 12: Loss 0.46717536449432373\n",
            "Epoch 13: Loss 0.4665246307849884\n",
            "Epoch 14: Loss 0.46261894702911377\n",
            "Epoch 15: Loss 0.4670575261116028\n"
          ]
        },
        {
          "data": {
            "image/png": "[encoded data removed]",
            "text/plain": [
              "<Figure size 1000x500 with 1 Axes>"
            ]
          },
          "metadata": {},
          "output_type": "display_data"
        },
        {
          "name": "stdout",
          "output_type": "stream",
          "text": [
            "Training metric: 0.898\n",
            "Test metric:     0.901\n",
            "BATCH TRAINING\n"
          ]
        },
        {
          "name": "stderr",
          "output_type": "stream",
          "text": [
            "Epochs:   7%|▋         | 1/15 [00:02<00:33,  2.38s/it]"
          ]
        },
        {
          "name": "stdout",
          "output_type": "stream",
          "text": [
            "Epoch 1: Average Loss 0.5903\n"
          ]
        },
        {
          "name": "stderr",
          "output_type": "stream",
          "text": [
            "\rEpochs:  13%|█▎        | 2/15 [00:04<00:30,  2.34s/it]"
          ]
        },
        {
          "name": "stdout",
          "output_type": "stream",
          "text": [
            "Epoch 2: Average Loss 0.5159\n"
          ]
        },
        {
          "name": "stderr",
          "output_type": "stream",
          "text": [
            "\rEpochs:  20%|██        | 3/15 [00:06<00:27,  2.32s/it]"
          ]
        },
        {
          "name": "stdout",
          "output_type": "stream",
          "text": [
            "Epoch 3: Average Loss 0.4988\n"
          ]
        },
        {
          "name": "stderr",
          "output_type": "stream",
          "text": [
            "\rEpochs:  27%|██▋       | 4/15 [00:09<00:25,  2.31s/it]"
          ]
        },
        {
          "name": "stdout",
          "output_type": "stream",
          "text": [
            "Epoch 4: Average Loss 0.4874\n"
          ]
        },
        {
          "name": "stderr",
          "output_type": "stream",
          "text": [
            "\rEpochs:  33%|███▎      | 5/15 [00:11<00:23,  2.31s/it]"
          ]
        },
        {
          "name": "stdout",
          "output_type": "stream",
          "text": [
            "Epoch 5: Average Loss 0.4777\n"
          ]
        },
        {
          "name": "stderr",
          "output_type": "stream",
          "text": [
            "\rEpochs:  40%|████      | 6/15 [00:14<00:21,  2.37s/it]"
          ]
        },
        {
          "name": "stdout",
          "output_type": "stream",
          "text": [
            "Epoch 6: Average Loss 0.4711\n"
          ]
        },
        {
          "name": "stderr",
          "output_type": "stream",
          "text": [
            "\rEpochs:  47%|████▋     | 7/15 [00:16<00:18,  2.35s/it]"
          ]
        },
        {
          "name": "stdout",
          "output_type": "stream",
          "text": [
            "Epoch 7: Average Loss 0.4644\n"
          ]
        },
        {
          "name": "stderr",
          "output_type": "stream",
          "text": [
            "\rEpochs:  53%|█████▎    | 8/15 [00:18<00:16,  2.33s/it]"
          ]
        },
        {
          "name": "stdout",
          "output_type": "stream",
          "text": [
            "Epoch 8: Average Loss 0.4585\n"
          ]
        },
        {
          "name": "stderr",
          "output_type": "stream",
          "text": [
            "\rEpochs:  60%|██████    | 9/15 [00:20<00:13,  2.31s/it]"
          ]
        },
        {
          "name": "stdout",
          "output_type": "stream",
          "text": [
            "Epoch 9: Average Loss 0.4536\n"
          ]
        },
        {
          "name": "stderr",
          "output_type": "stream",
          "text": [
            "\rEpochs:  67%|██████▋   | 10/15 [00:23<00:11,  2.30s/it]"
          ]
        },
        {
          "name": "stdout",
          "output_type": "stream",
          "text": [
            "Epoch 10: Average Loss 0.4482\n"
          ]
        },
        {
          "name": "stderr",
          "output_type": "stream",
          "text": [
            "\rEpochs:  73%|███████▎  | 11/15 [00:25<00:09,  2.33s/it]"
          ]
        },
        {
          "name": "stdout",
          "output_type": "stream",
          "text": [
            "Epoch 11: Average Loss 0.4437\n"
          ]
        },
        {
          "name": "stderr",
          "output_type": "stream",
          "text": [
            "\rEpochs:  80%|████████  | 12/15 [00:28<00:07,  2.36s/it]"
          ]
        },
        {
          "name": "stdout",
          "output_type": "stream",
          "text": [
            "Epoch 12: Average Loss 0.4392\n"
          ]
        },
        {
          "name": "stderr",
          "output_type": "stream",
          "text": [
            "\rEpochs:  87%|████████▋ | 13/15 [00:30<00:04,  2.34s/it]"
          ]
        },
        {
          "name": "stdout",
          "output_type": "stream",
          "text": [
            "Epoch 13: Average Loss 0.4349\n"
          ]
        },
        {
          "name": "stderr",
          "output_type": "stream",
          "text": [
            "\rEpochs:  93%|█████████▎| 14/15 [00:32<00:02,  2.33s/it]"
          ]
        },
        {
          "name": "stdout",
          "output_type": "stream",
          "text": [
            "Epoch 14: Average Loss 0.4302\n"
          ]
        },
        {
          "name": "stderr",
          "output_type": "stream",
          "text": [
            "Epochs: 100%|██████████| 15/15 [00:34<00:00,  2.33s/it]"
          ]
        },
        {
          "name": "stdout",
          "output_type": "stream",
          "text": [
            "Epoch 15: Average Loss 0.4265\n"
          ]
        },
        {
          "name": "stderr",
          "output_type": "stream",
          "text": [
            "\n"
          ]
        },
        {
          "data": {
            "image/png": "[encoded data removed]",
            "text/plain": [
              "<Figure size 1000x500 with 1 Axes>"
            ]
          },
          "metadata": {},
          "output_type": "display_data"
        },
        {
          "name": "stdout",
          "output_type": "stream",
          "text": [
            "Training metric: 0.919\n",
            "Test metric:     0.920\n"
          ]
        }
      ],
      "source": [
        "print(\"FULL TRAINING\")\n",
        "\n",
        "# Your solution here ###########################################################\n",
        "\n",
        "n_epochs = 15\n",
        "in_features = data.x.shape[1]\n",
        "hidden_dim = 64\n",
        "gat = GAT(in_channels=in_features, hidden_channels=hidden_dim).to(device)\n",
        "\n",
        "learning_rate = 1e-3\n",
        "optimizer = torch.optim.Adam(gat.parameters(), lr=learning_rate)\n",
        "loss_fn = nn.BCEWithLogitsLoss()\n",
        "\n",
        "train_gnn(data, gat, optimizer, loss_fn)\n",
        "\n",
        "metric_tr, metric_te = eval_gnn(gat, data, train_mask, metric_fn), eval_gnn(gat, data, ~train_mask, metric_fn)\n",
        "\n",
        "# ^^^^^^^^^^^^^^^^^^^^^^^^^^^^^^^^^^^^^^^^^^^^^^^^^^^^^^^^^^^^^^^^^^^^^^^^^^^^^^\n",
        "#plt.title(\"Full training\")\n",
        "#plt.show()\n",
        "\n",
        "print(f\"Training metric: {metric_tr:.3f}\")\n",
        "print(f\"Test metric:     {metric_te:.3f}\")\n",
        "\n",
        "print(\"BATCH TRAINING\")\n",
        "\n",
        "# Your solution here ###########################################################\n",
        "\n",
        "gat = GAT(in_channels=in_features, hidden_channels=hidden_dim).to(device)\n",
        "optimizer = torch.optim.Adam(gat.parameters(), lr=learning_rate)\n",
        "loss_fn = nn.BCEWithLogitsLoss()\n",
        "\n",
        "train_gnn_batched(loader_graph_train, gat, optimizer, loss_fn)\n",
        "\n",
        "metric_tr, metric_te = eval_gnn(gat, data, train_mask, metric_fn), eval_gnn(gat, data, ~train_mask, metric_fn)\n",
        "\n",
        "# ^^^^^^^^^^^^^^^^^^^^^^^^^^^^^^^^^^^^^^^^^^^^^^^^^^^^^^^^^^^^^^^^^^^^^^^^^^^^^^\n",
        "\n",
        "#plt.title(\"Full training\")\n",
        "#plt.show()\n",
        "\n",
        "print(f\"Training metric: {metric_tr:.3f}\")\n",
        "print(f\"Test metric:     {metric_te:.3f}\")"
      ]
    },
    {
      "cell_type": "markdown",
      "metadata": {
        "id": "VM66VoRPUEdd"
      },
      "source": [
        "**1.4.8 [6pts]** Compare the results of these two architectures, with multiple hyperparameters, and the previous results. Discuss the eventual differences in performance highlighting the properties that you believe influence most the outcome."
      ]
    },
    {
      "cell_type": "markdown",
      "metadata": {
        "id": "HY8d_mm-Z-sp"
      },
      "source": [
        "**Your answer here:**\n",
        "..."
      ]
    },
    {
      "cell_type": "markdown",
      "metadata": {
        "id": "bWzbUPRwC_YE"
      },
      "source": [
        "## Part 2: Learning graphs [20 points]\n",
        "\n",
        "Graph attention layers are quite interesting, since they use the local and the incoming information of a node to give different weights to each neighbor. This is conceptually similar to learning a new graph on top of the existing one.\n",
        "\n",
        "In this part, we design a block that, from node embeddings, will produce a new graph. The idea is similar to the one in the paper \"Discrete Graph Structure Learning for Forecasting Multiple Time Series\", which is illustrated in the following Figure.\n",
        "\n",
        "References:\n",
        "- C. Shang, J. Chen, and J. Bi, “Discrete Graph Structure Learning for Forecasting Multiple Time Series,” presented at the International Conference on Learning Representations, Feb. 2022. Accessed: Aug. 15, 2022. Available: https://openreview.net/forum?id=WEHSlH5mOk\n",
        "\n",
        "\n"
      ]
    },
    {
      "cell_type": "markdown",
      "metadata": {
        "id": "spfK3A4tUuP9"
      },
      "source": [
        "![Graph Learning Module](graph_learning_module.png)"
      ]
    },
    {
      "cell_type": "markdown",
      "metadata": {
        "id": "LG8YFdReLEvP"
      },
      "source": [
        "As we can see from the schema, we have three main components:\n",
        "1. **Feature extractor**: mapping each node to a new, synthesized representation;\n",
        "2. **Link predictor**: for each pair of node representations, predict the probability that an edge links them. We gather probabilities in a *structure matrix* $\\theta$;\n",
        "3. **Sampling**: Sample one, or multiple, discrete graphs from the structure matrix.\n",
        "\n",
        "In the following questions, we will break down these components."
      ]
    },
    {
      "cell_type": "markdown",
      "metadata": {
        "id": "rr50GNoAVK44"
      },
      "source": [
        "### Question 2.1: Sampling (4 points)\n",
        "\n",
        "Sampling is the most intriguing part of our module, as it maps, randomly, continuous probabilities to discrete edges.\n",
        "Ideally, we would like to sample each edge with a probability $\\theta$, following a Bernoulli distribution, but this would be hard to backpropagate through.\n",
        "\n",
        "What we do instead is known as the **Gumbel Trick**.\n",
        "We sample edges using a [Gumbel][gumbel] reparameterization, which allows differentiating for $\\theta$ through it. With $g_{ij}^1, g_{ij}^2 \\sim \\operatorname{Gumbel}(0,1)$ for all $i,j$, and $s$ a temperature parameter,\n",
        "$$\n",
        "A_{ij} = \\operatorname{sigmoid}\\left(\n",
        "  \\frac{\n",
        "    \\log\\left( \\frac{\\theta_{ij}}{1 - \\theta_{ij}} \\right)\n",
        "    + g_{ij}^1 - g_{ij}^2\n",
        "  }{s}\n",
        "\\right)\n",
        ".\n",
        "$$\n",
        "By letting the temperature go to zero, we can get closer and closer to a Bernoulli distribution.\n",
        "\n",
        "[gumbel]: https://en.wikipedia.org/wiki/Gumbel_distribution\n"
      ]
    },
    {
      "cell_type": "markdown",
      "metadata": {
        "id": "qmZ4U5FBTylP"
      },
      "source": [
        "**2.1.1 [2pts]** Define a function to sample a matrix of Gumbel variables of given shape, knowing that, for $p$ sampled uniformly in (0,1), then $Q(p) \\sim \\operatorname{Gumbel}(\\mu,\\beta)$\n",
        "$$\n",
        "  Q(p)=\\mu-\\beta \\ln (-\\ln (p))\n",
        "  .\n",
        "$$"
      ]
    },
    {
      "cell_type": "code",
      "execution_count": 2,
      "metadata": {
        "id": "HMPBfsrvcFA7"
      },
      "outputs": [
        {
          "name": "stdout",
          "output_type": "stream",
          "text": [
            "Testing sample_gumbel\n",
            "tensor([[ 1.4038,  2.3292,  0.4392],\n",
            "        [ 0.0377,  1.9642, -0.2927]])\n"
          ]
        }
      ],
      "source": [
        "import torch\n",
        "\n",
        "def sample_gumbel(shape, mu=0, beta=1):\n",
        "    # Your solution here #######################################################\n",
        "    \n",
        "    # Sample uniform variables in (0, 1)\n",
        "    uniform_samples = torch.rand(shape)\n",
        "    # Apply the Gumbel inverse CDF transformation\n",
        "    gumbel_samples = mu - beta * torch.log(-torch.log(uniform_samples))\n",
        "    return gumbel_samples\n",
        "\n",
        "    # ^^^^^^^^^^^^^^^^^^^^^^^^^^^^^^^^^^^^^^^^^^^^^^^^^^^^^^^^^^^^^^^^^^^^^^^^^^\n",
        "\n",
        "print(\"Testing sample_gumbel\")\n",
        "print(sample_gumbel((2, 3), 0, 1))"
      ]
    },
    {
      "cell_type": "markdown",
      "metadata": {
        "id": "z1c-H65hZjIj"
      },
      "source": [
        "**2.1.2 [2pts]** Note that $log(\\frac{\\theta}{1 - \\theta})$ is the sigmoid function, so we can work with unnormalized edge logits instead of probabilities. Define a function to sample an adjacency matrix $A$ from edge logits using the Gumbel Trick."
      ]
    },
    {
      "cell_type": "code",
      "execution_count": 3,
      "metadata": {
        "id": "eoQk5QzOXlLM"
      },
      "outputs": [
        {
          "name": "stdout",
          "output_type": "stream",
          "text": [
            "Testing sample_gumbel_trick\n",
            "tensor([ 0.1139, -0.6930,  0.6422,  0.0792]) tensor([2.2809, 1.2740, 2.4245, 0.1693])\n",
            "tensor([1.0000, 0.4510, 0.4556, 0.2672])\n",
            "tensor([0.6554, 1.1249, 4.2942, 0.8282]) tensor([-0.0184, -0.0277,  0.2831, -0.9520])\n",
            "tensor([1.0000e+00, 7.5999e-01, 9.8221e-01, 2.6920e-04])\n",
            "tensor([-0.3227,  0.8190,  0.7572, -0.0289]) tensor([-0.8060, -0.6304, -0.5121, -0.2986])\n",
            "tensor([1., 1., 1., 0.])\n"
          ]
        }
      ],
      "source": [
        "def sample_gumbel_trick(logits, temperature, mu=0, beta=1):\n",
        "    # Your solution here #######################################################\n",
        "    \n",
        "    # Draw two Gumbel variables\n",
        "    g1 = sample_gumbel(logits.shape, mu, beta)\n",
        "    g2 = sample_gumbel(logits.shape, mu, beta)\n",
        "    print(g1, g2)\n",
        "    # Apply the Gumbel trick to sample adjacency matrix\n",
        "    return torch.sigmoid((logits + g1 - g2) / temperature)\n",
        "    \n",
        "    # ^^^^^^^^^^^^^^^^^^^^^^^^^^^^^^^^^^^^^^^^^^^^^^^^^^^^^^^^^^^^^^^^^^^^^^^^^^\n",
        "\n",
        "\n",
        "print(\"Testing sample_gumbel_trick\")\n",
        "print(sample_gumbel_trick(torch.tensor([1000, 0, 0, -10]), temperature=10))\n",
        "print(sample_gumbel_trick(torch.tensor([1000, 0, 0, -10]), temperature=1))\n",
        "print(sample_gumbel_trick(torch.tensor([1000, 0, 0, -10]), temperature=1e-2))"
      ]
    },
    {
      "cell_type": "markdown",
      "metadata": {
        "id": "umLVURybMrBn"
      },
      "source": [
        "### Question 2.2: Link predictor (11 points)\n",
        "\n",
        "GNNs are all about node embeddings, which by now we should know how to deal with. The missing component is therefore the **link predictor**.\n",
        "\n",
        "Naively, we could iterate through all pairs of nodes and apply a predictor layer, but it would be highly inefficient.\n",
        "To leverage tensor manipulation, let's start by gathering paired node representations in a matrix, so that we can predict probabilities in parallel."
      ]
    },
    {
      "cell_type": "markdown",
      "metadata": {
        "id": "Y3Y-vdSGONQO"
      },
      "source": [
        "**2.2.1 [3pts]**  Define a function that takes as input a tensor of node embeddings, and returns a tensor that concatenate embeddings pairwise. Use [triu_indices][triu_indices] to have pairs appearing only once and avoid self loops, and return the indices along with the embeddings.\n",
        "\n",
        "[triu_indices]: https://pytorch.org/docs/stable/generated/torch.triu_indices.html"
      ]
    },
    {
      "cell_type": "code",
      "execution_count": 6,
      "metadata": {
        "id": "ZLUKHp5jlXbs"
      },
      "outputs": [
        {
          "name": "stdout",
          "output_type": "stream",
          "text": [
            "Testing pair_embeddings\n",
            "tensor([[1., 2.],\n",
            "        [1., 3.],\n",
            "        [2., 3.]])\n",
            "tensor([[1., 2.],\n",
            "        [1., 3.],\n",
            "        [2., 3.],\n",
            "        [4., 5.],\n",
            "        [4., 6.],\n",
            "        [5., 6.]])\n"
          ]
        }
      ],
      "source": [
        "# COMMENT: alternative implementation -> use a .unsqueeze-operation to get 2D to 3D tensor\n",
        "\n",
        "def pair_embeddings(x) -> (torch.Tensor, torch.Tensor):\n",
        "    # This implementation only handles 2D and 3D input tensors (x)\n",
        "    assert x.dim() in [2,3]\n",
        "    \n",
        "    # Determine if we have batched embeddings or not\n",
        "    if x.dim() == 3: # -----> Batch mode\n",
        "        batch_size, num_nodes, _ = x.shape\n",
        "        # Get the indices of the upper triangular part of the matrix for one example \n",
        "        row_indices, col_indices = torch.triu_indices(num_nodes, num_nodes, 1)\n",
        "        \n",
        "        # Prepare for batch operation: use broadcasting to get pairs for all batches.\n",
        "        row_indices, col_indices = row_indices.repeat(batch_size, 1), col_indices.repeat(batch_size, 1)\n",
        "        \n",
        "        # Adjust indices for batched data\n",
        "        batch_indices = torch.arange(batch_size).repeat_interleave(row_indices.shape[1])\n",
        "        row_indices, col_indices = row_indices.flatten(), col_indices.flatten()\n",
        "        \n",
        "        # Gather pairs of embeddings based on the indices and concatenate them\n",
        "        paired_embeddings = torch.cat((x[batch_indices, row_indices], x[batch_indices, col_indices]), dim=1)\n",
        "    else: # -----> Non-batch mode\n",
        "        num_nodes = x.size(0)\n",
        "        row_indices, col_indices = torch.triu_indices(num_nodes, num_nodes, 1)\n",
        "        paired_embeddings = torch.cat((x[row_indices], x[col_indices]), dim=1)\n",
        "        batch_indices = None  # No batch indices in non-batch mode\n",
        "\n",
        "    return paired_embeddings, (row_indices, col_indices, batch_indices)\n",
        "\n",
        "print(\"Testing pair_embeddings\")\n",
        "print(pair_embeddings(torch.tensor([[1.0], [2.0], [3.0]]))[0])\n",
        "print(pair_embeddings(torch.tensor([[[1.0], [2.0], [3.0]], [[4.0], [5.0], [6.0]]]))[0])"
      ]
    },
    {
      "cell_type": "markdown",
      "metadata": {
        "id": "WoAjpxhcc6No"
      },
      "source": [
        "**2.2.2 [8pts]** Define a PyTorch module that takes as input node embeddings, compute link probabilities with a two-layer perceptron on paired embeddings, then samples edges with the Gumbel trick. The output of the forward method will be a PyTorch Geometric [EdgeIndex][edge_index] of tensors representing indices and weights corresponding to positively sampled edges. You might need a `eps` threshold to avoid numerical errors.\n",
        "\n",
        "[edge_index]: https://pytorch-geometric.readthedocs.io/en/latest/generated/torch_geometric.edge_index.EdgeIndex"
      ]
    },
    {
      "cell_type": "code",
      "execution_count": null,
      "metadata": {
        "id": "IH4IFTq2dSex"
      },
      "outputs": [],
      "source": [
        "# COMMENT: ideally we would use the gumbal trick function we implemented earlier. Modifications should be made\n",
        "\n",
        "class MLPGraphLearn(nn.Module):\n",
        "    # Your solution here ###########################################################\n",
        "    def __init__(\n",
        "        self, in_features: int, hidden_features: int, temperature: float, eps=1e-10\n",
        "    ):\n",
        "        super(MLPGraphLearn, self).__init__()\n",
        "        self.eps = eps\n",
        "        self.temperature = temperature\n",
        "        # Two-layer perceptron\n",
        "        self.fc1 = nn.Linear(in_features*2, hidden_features)\n",
        "        self.fc2 = nn.Linear(hidden_features, 1)  # Outputs probability for each pair\n",
        "    \n",
        "    def forward(self, x):\n",
        "        # Compute all pairwise embeddings\n",
        "        paired_embeddings, (row_indices, col_indices, batch_indices) = pair_embeddings(x)\n",
        "        # Feed through MLP\n",
        "        out = torch.nn.functional.relu(self.fc1(paired_embeddings))\n",
        "        logits = self.fc2(out).squeeze(-1)\n",
        "        \n",
        "        # Gumbel trick to sample edges\n",
        "        gumbel_noise = -torch.log(-torch.log(torch.rand_like(logits) + self.eps) + self.eps)\n",
        "        logits = (logits + gumbel_noise) / self.temperature\n",
        "        sampled_edges = torch.nn.functional.sigmoid(logits) > 0.5\n",
        "        \n",
        "        # Construct the edge index tensor\n",
        "        edge_indices = torch.stack([row_indices[sampled_edges], col_indices[sampled_edges]], dim=0)\n",
        "        \n",
        "        return edge_indices\n",
        "\n",
        "    # ^^^^^^^^^^^^^^^^^^^^^^^^^^^^^^^^^^^^^^^^^^^^^^^^^^^^^^^^^^^^^^^^^^^^^^^^^^^^^^\n",
        "\n",
        "\n",
        "print(\"Testing MLPGraphLearn\")\n",
        "mlp_gl = MLPGraphLearn(2, 5, 0.01)\n",
        "mlp_gl(torch.tensor([[[1.0, 2.0], [0.5, 7.1], [-0.1, 0.3]]]))"
      ]
    },
    {
      "cell_type": "markdown",
      "metadata": {
        "id": "2_yTN8dYkign"
      },
      "source": [
        "### Question 2.3: Classifiers with Graph Learning Module (5 points)\n",
        "\n",
        "Let's introduce our graph learning block into some classifiers.\n"
      ]
    },
    {
      "cell_type": "markdown",
      "metadata": {
        "id": "cR_4B2aCk7ZI"
      },
      "source": [
        "**2.3.1 [4pts]** Define a classifier that first produces node embeddings with a Linear layer with ReLU activation, which it feeds to the previously defined GL module; then it performs two graph convolutions on the original node features using the learned graph."
      ]
    },
    {
      "cell_type": "code",
      "execution_count": null,
      "metadata": {
        "id": "9Iix9QMkXlNk"
      },
      "outputs": [],
      "source": [
        "class MLPGLClassifier(nn.Module):\n",
        "    # Your solution here #######################################################\n",
        "    def __init__(\n",
        "        self,\n",
        "        in_features: int,\n",
        "        gl_node_features_in: int = 64,\n",
        "        gl_node_features_hidden: int = 32,\n",
        "        gcn_hidden: int = 64,\n",
        "    ): ...\n",
        "\n",
        "    # ^^^^^^^^^^^^^^^^^^^^^^^^^^^^^^^^^^^^^^^^^^^^^^^^^^^^^^^^^^^^^^^^^^^^^^^^^^"
      ]
    },
    {
      "cell_type": "markdown",
      "metadata": {
        "id": "c9mr7BGmqZ15"
      },
      "source": [
        "**2.3.2 [1pt]** Unfortunately, training and evaluating the `MLPGLClassifier` might take too long. Let's just test whether it works: instantiate the classifier and compute the graph embedding."
      ]
    },
    {
      "cell_type": "code",
      "execution_count": null,
      "metadata": {
        "id": "5QFyWI8-qiLT"
      },
      "outputs": [],
      "source": [
        "# Your solution here ###########################################################\n",
        "\n",
        "# ^^^^^^^^^^^^^^^^^^^^^^^^^^^^^^^^^^^^^^^^^^^^^^^^^^^^^^^^^^^^^^^^^^^^^^^^^^^^^^"
      ]
    },
    {
      "cell_type": "markdown",
      "metadata": {
        "id": "_DbKoBYBEyHl"
      },
      "source": [
        "## Part 3 (Theory): Forcing causal structure in learned graphs [35 points]\n",
        "\n",
        "Understanding and mapping the causal relationships among data variables, represented by directed acyclic graphs (DAGs), presents a significant challenge. The search space for these DAGs is combinatorial, and it scales super exponentially with the number of nodes, further complicating the task.\n",
        "\n",
        "Assuming causal relationships between data variables, the basic DAG learning problem is formulated as follows: Let $\\mathbf{X} \\in \\mathbb{R}^{n \\times d}$ be a data matrix consisting of $n$ i.i.d. observations of the random vector $x=\\left(x_1, \\ldots, x_d\\right)$ and let $\\mathbb{D}$ denote the (discrete) space of DAGs $\\mathrm{G}=(\\mathrm{V}, \\mathrm{E})$ on $d$ nodes. Given $\\mathbf{X}$, we seek to learn a DAG $\\mathrm{G}$ represented by its adjacency matrix $A$ such that:\n",
        "\n",
        "$$\n",
        "\\begin{array}{rl}\n",
        "\\min _{A \\in \\mathbb{R}^{d \\times d}} &  F(A):= \\frac{1}{2 n}\\|\\mathbf{X}-GNN(\\mathbf{X}, A)\\|_F^2+\\lambda\\|A\\|_1 \\\\\n",
        "\\text { subject to } &  A \\in \\mathbb{D} ,\n",
        "\\end{array}\n",
        "$$\n",
        "where $\\mathbb{D}$ represents a DAG space and GNN is a graph neural network that simultaneously learns a DAG $A$ and accurately predicts an estimation of the matrix $\\mathbf{X}$. The minimization of the aforementioned problem guides us towards finding the causal graph that generates the data $\\mathbf{X}$. Although $F(A)$ is continuous, the DAG constraint $A \\in \\mathbb{D}$ remains a challenge to enforce.\n",
        "\n",
        "The objective is to make the aforementioned problem amenable to black-box optimization (in order to use SGD, ADAM...). We aim to replace the combinatorial acyclicity constraint $A \\in \\mathbb{D}$ with a single smooth equality constraint $h(A) = 0$. Thus, the objective of this section is to find a smooth function $h: \\mathbb{R}^{d \\times d} \\rightarrow \\mathbb{R}$ that will satisfy the following: $h(A)=0$ if and only if $A$ is acyclic (i.e. $A \\in \\mathbb{D}$). Furthermore, we want to ensure that $h$ and its derivatives are easy to compute."
      ]
    },
    {
      "cell_type": "markdown",
      "metadata": {
        "id": "BsdUhlSstMs6"
      },
      "source": [
        "### Question 3.1: DAGness property for binary matrix with spectral radius condition (8 points)\n",
        "\n",
        "In this question we want to find out when a matrix $A \\in\\{0,1\\}^{d \\times d}$ corresponds to an acyclic graph.\n",
        "\n",
        "Suppose $A \\in\\{0,1\\}^{d \\times d}$ and $r(A)<1$, $r(A)$ is the spectral radius of the matrix $A$, and it corresponds to the largest absolute eigenvalue of $A$.\n",
        "\n"
      ]
    },
    {
      "cell_type": "markdown",
      "metadata": {
        "id": "nx-0T_W5gwQJ"
      },
      "source": [
        "**3.1.1 [2pts]** Justify the convergence of $\\sum_{k=0}^{\\infty} A^k$ and show that:\n",
        "$$\\left(I_n-A\\right)^{-1}=\\sum_{k=0}^{\\infty} A^k$$"
      ]
    },
    {
      "cell_type": "markdown",
      "metadata": {
        "id": "Qon9WAPNhN7e"
      },
      "source": [
        "**Your answer here:**\n",
        "..."
      ]
    },
    {
      "cell_type": "markdown",
      "metadata": {
        "id": "xaf2Z3ovhh6q"
      },
      "source": [
        "**3.1.2 [6pts]** Show that $A$ is a $D A G$ if and only if $\\operatorname{tr}(I-A)^{-1}=d$"
      ]
    },
    {
      "cell_type": "markdown",
      "metadata": {
        "id": "_q0ZTy4caC4C"
      },
      "source": [
        "**Your answer here:**\n",
        "..."
      ]
    },
    {
      "cell_type": "markdown",
      "metadata": {
        "id": "_aa4Z0v4BAq1"
      },
      "source": [
        "Having an assumption on $r(A) < 1$ limits the application of our results. For this reason, our objective is to generalize the previous result to binary matrices.\n"
      ]
    },
    {
      "cell_type": "markdown",
      "metadata": {
        "id": "aPTAFE02CmnR"
      },
      "source": [
        "### Question 3.2: DAGness property for binary matrix (8 points)\n",
        "\n",
        "Suppose $A \\in\\{0,1\\}^{d \\times d}$.\n",
        "\n",
        "**3.2.1 [4pts]**  Prove the existence of the exponential matrix, we recall that $e^{A} = \\sum_{k=0}^{\\infty} \\frac{A^k}{k !}$\n"
      ]
    },
    {
      "cell_type": "markdown",
      "metadata": {
        "id": "omwjhe3xjsmB"
      },
      "source": [
        "**Your answer here:**\n",
        "..."
      ]
    },
    {
      "cell_type": "markdown",
      "metadata": {
        "id": "CD-NzoDOjoex"
      },
      "source": [
        "**3.2.2 [4pts]** Show that $A$ is a $D A G$ if and only if $\\operatorname{tr} e^A=d$, where $e^A$ is the exponential matrix."
      ]
    },
    {
      "cell_type": "markdown",
      "metadata": {
        "id": "TidXjsZpaDmv"
      },
      "source": [
        "**Your answer here:**\n",
        "..."
      ]
    },
    {
      "cell_type": "markdown",
      "metadata": {
        "id": "lWkv2xPtDph7"
      },
      "source": [
        "**3.3 [5pts]** DAGness property for weighted adjacency matrices\n",
        "\n",
        "Suppose $A \\in \\mathbb{R}^{d \\times d}$. Knowing that the equivalence of Question 3.2 is correct for any nonnegative weighted matrix $A$, propose a function $f$ such that $A$ is a $D A G$ if and only if $\\operatorname{tr} e^{f(A)}=d$.\n"
      ]
    },
    {
      "cell_type": "markdown",
      "metadata": {
        "id": "2WfQ0nmvaE0H"
      },
      "source": [
        "**Your answer here:**\n",
        "..."
      ]
    },
    {
      "cell_type": "markdown",
      "metadata": {
        "id": "xfcjLTp0Kguj"
      },
      "source": [
        "**3.4 [7pts]** Compute the gradient of $h(A) = \\operatorname{tr} e^{f(A)}-d$."
      ]
    },
    {
      "cell_type": "markdown",
      "metadata": {
        "id": "P-4jHQBWaFW7"
      },
      "source": [
        "**Your answer here:**\n",
        "..."
      ]
    },
    {
      "cell_type": "markdown",
      "metadata": {
        "id": "NmFFFXiOHVDk"
      },
      "source": [
        "**3.5 [7pts]** Other alternatives\n",
        "\n",
        "Suppose $A \\in \\mathbb{R}^{d \\times d}$. For the previously proposed function $f$ show that for any $\\alpha > 0 $, $A$ is a $D A G$ if and only if $\\operatorname{tr}\\left[(I+\\alpha f(A))^d\\right]-d=0$."
      ]
    },
    {
      "cell_type": "markdown",
      "metadata": {
        "id": "fqTe3RAJaGbC"
      },
      "source": [
        "**Your answer here:**\n",
        "..."
      ]
    },
    {
      "cell_type": "code",
      "execution_count": null,
      "metadata": {
        "id": "BdrlH-53ogdV"
      },
      "outputs": [],
      "source": []
    }
  ],
  "metadata": {
    "accelerator": "GPU",
    "colab": {
      "gpuType": "T4",
      "provenance": []
    },
    "kernelspec": {
      "display_name": "Python 3",
      "name": "python3"
    },
    "language_info": {
      "codemirror_mode": {
        "name": "ipython",
        "version": 3
      },
      "file_extension": ".py",
      "mimetype": "text/x-python",
      "name": "python",
      "nbconvert_exporter": "python",
      "pygments_lexer": "ipython3",
      "version": "3.8.18"
    },
    "vscode": {
      "interpreter": {
        "hash": "1b6258ac5f9ce9aee8bc7e8f09e746bac739d42425ff8343fe5df569d2e6cb19"
      }
    }
  },
  "nbformat": 4,
  "nbformat_minor": 0
}
